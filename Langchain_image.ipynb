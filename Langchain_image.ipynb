{
  "cells": [
    {
      "cell_type": "code",
      "execution_count": 1,
      "metadata": {
        "colab": {
          "base_uri": "https://localhost:8080/"
        },
        "id": "lTAJ-Ix1VRus",
        "outputId": "d8f8d766-2dd7-46a2-b5bc-f7b5ff354e4d"
      },
      "outputs": [
        {
          "name": "stdout",
          "output_type": "stream",
          "text": [
            "Provide your Google API Key··········\n"
          ]
        }
      ],
      "source": [
        "import getpass\n",
        "import os\n",
        "\n",
        "os.environ[\"GOOGLE_API_KEY\"] = getpass.getpass(\"Provide your Google API Key\")"
      ]
    },
    {
      "cell_type": "code",
      "execution_count": null,
      "metadata": {
        "id": "Vfs9RwS4Jd78"
      },
      "outputs": [],
      "source": []
    },
    {
      "cell_type": "code",
      "execution_count": 2,
      "metadata": {
        "colab": {
          "base_uri": "https://localhost:8080/"
        },
        "id": "LNB1vliMVfoc",
        "outputId": "a8e8f761-a708-4673-897b-37459d8fa0c4"
      },
      "outputs": [
        {
          "output_type": "stream",
          "name": "stdout",
          "text": [
            "Collecting langchain-google-genai\n",
            "  Downloading langchain_google_genai-1.0.3-py3-none-any.whl (31 kB)\n",
            "Requirement already satisfied: pillow in /usr/local/lib/python3.10/dist-packages (9.4.0)\n",
            "Requirement already satisfied: google-generativeai<0.6.0,>=0.5.2 in /usr/local/lib/python3.10/dist-packages (from langchain-google-genai) (0.5.2)\n",
            "Collecting langchain-core<0.2,>=0.1.45 (from langchain-google-genai)\n",
            "  Downloading langchain_core-0.1.52-py3-none-any.whl (302 kB)\n",
            "\u001b[2K     \u001b[90m━━━━━━━━━━━━━━━━━━━━━━━━━━━━━━━━━━━━━━━━\u001b[0m \u001b[32m302.9/302.9 kB\u001b[0m \u001b[31m9.0 MB/s\u001b[0m eta \u001b[36m0:00:00\u001b[0m\n",
            "\u001b[?25hRequirement already satisfied: google-ai-generativelanguage==0.6.2 in /usr/local/lib/python3.10/dist-packages (from google-generativeai<0.6.0,>=0.5.2->langchain-google-genai) (0.6.2)\n",
            "Requirement already satisfied: google-api-core in /usr/local/lib/python3.10/dist-packages (from google-generativeai<0.6.0,>=0.5.2->langchain-google-genai) (2.11.1)\n",
            "Requirement already satisfied: google-api-python-client in /usr/local/lib/python3.10/dist-packages (from google-generativeai<0.6.0,>=0.5.2->langchain-google-genai) (2.84.0)\n",
            "Requirement already satisfied: google-auth>=2.15.0 in /usr/local/lib/python3.10/dist-packages (from google-generativeai<0.6.0,>=0.5.2->langchain-google-genai) (2.27.0)\n",
            "Requirement already satisfied: protobuf in /usr/local/lib/python3.10/dist-packages (from google-generativeai<0.6.0,>=0.5.2->langchain-google-genai) (3.20.3)\n",
            "Requirement already satisfied: pydantic in /usr/local/lib/python3.10/dist-packages (from google-generativeai<0.6.0,>=0.5.2->langchain-google-genai) (2.7.1)\n",
            "Requirement already satisfied: tqdm in /usr/local/lib/python3.10/dist-packages (from google-generativeai<0.6.0,>=0.5.2->langchain-google-genai) (4.66.4)\n",
            "Requirement already satisfied: typing-extensions in /usr/local/lib/python3.10/dist-packages (from google-generativeai<0.6.0,>=0.5.2->langchain-google-genai) (4.11.0)\n",
            "Requirement already satisfied: proto-plus<2.0.0dev,>=1.22.3 in /usr/local/lib/python3.10/dist-packages (from google-ai-generativelanguage==0.6.2->google-generativeai<0.6.0,>=0.5.2->langchain-google-genai) (1.23.0)\n",
            "Requirement already satisfied: PyYAML>=5.3 in /usr/local/lib/python3.10/dist-packages (from langchain-core<0.2,>=0.1.45->langchain-google-genai) (6.0.1)\n",
            "Collecting jsonpatch<2.0,>=1.33 (from langchain-core<0.2,>=0.1.45->langchain-google-genai)\n",
            "  Downloading jsonpatch-1.33-py2.py3-none-any.whl (12 kB)\n",
            "Collecting langsmith<0.2.0,>=0.1.0 (from langchain-core<0.2,>=0.1.45->langchain-google-genai)\n",
            "  Downloading langsmith-0.1.56-py3-none-any.whl (120 kB)\n",
            "\u001b[2K     \u001b[90m━━━━━━━━━━━━━━━━━━━━━━━━━━━━━━━━━━━━━━━━\u001b[0m \u001b[32m120.8/120.8 kB\u001b[0m \u001b[31m13.1 MB/s\u001b[0m eta \u001b[36m0:00:00\u001b[0m\n",
            "\u001b[?25hCollecting packaging<24.0,>=23.2 (from langchain-core<0.2,>=0.1.45->langchain-google-genai)\n",
            "  Downloading packaging-23.2-py3-none-any.whl (53 kB)\n",
            "\u001b[2K     \u001b[90m━━━━━━━━━━━━━━━━━━━━━━━━━━━━━━━━━━━━━━━━\u001b[0m \u001b[32m53.0/53.0 kB\u001b[0m \u001b[31m5.7 MB/s\u001b[0m eta \u001b[36m0:00:00\u001b[0m\n",
            "\u001b[?25hRequirement already satisfied: tenacity<9.0.0,>=8.1.0 in /usr/local/lib/python3.10/dist-packages (from langchain-core<0.2,>=0.1.45->langchain-google-genai) (8.3.0)\n",
            "Requirement already satisfied: cachetools<6.0,>=2.0.0 in /usr/local/lib/python3.10/dist-packages (from google-auth>=2.15.0->google-generativeai<0.6.0,>=0.5.2->langchain-google-genai) (5.3.3)\n",
            "Requirement already satisfied: pyasn1-modules>=0.2.1 in /usr/local/lib/python3.10/dist-packages (from google-auth>=2.15.0->google-generativeai<0.6.0,>=0.5.2->langchain-google-genai) (0.4.0)\n",
            "Requirement already satisfied: rsa<5,>=3.1.4 in /usr/local/lib/python3.10/dist-packages (from google-auth>=2.15.0->google-generativeai<0.6.0,>=0.5.2->langchain-google-genai) (4.9)\n",
            "Collecting jsonpointer>=1.9 (from jsonpatch<2.0,>=1.33->langchain-core<0.2,>=0.1.45->langchain-google-genai)\n",
            "  Downloading jsonpointer-2.4-py2.py3-none-any.whl (7.8 kB)\n",
            "Collecting orjson<4.0.0,>=3.9.14 (from langsmith<0.2.0,>=0.1.0->langchain-core<0.2,>=0.1.45->langchain-google-genai)\n",
            "  Downloading orjson-3.10.3-cp310-cp310-manylinux_2_17_x86_64.manylinux2014_x86_64.whl (142 kB)\n",
            "\u001b[2K     \u001b[90m━━━━━━━━━━━━━━━━━━━━━━━━━━━━━━━━━━━━━━━━\u001b[0m \u001b[32m142.5/142.5 kB\u001b[0m \u001b[31m14.4 MB/s\u001b[0m eta \u001b[36m0:00:00\u001b[0m\n",
            "\u001b[?25hRequirement already satisfied: requests<3,>=2 in /usr/local/lib/python3.10/dist-packages (from langsmith<0.2.0,>=0.1.0->langchain-core<0.2,>=0.1.45->langchain-google-genai) (2.31.0)\n",
            "Requirement already satisfied: annotated-types>=0.4.0 in /usr/local/lib/python3.10/dist-packages (from pydantic->google-generativeai<0.6.0,>=0.5.2->langchain-google-genai) (0.6.0)\n",
            "Requirement already satisfied: pydantic-core==2.18.2 in /usr/local/lib/python3.10/dist-packages (from pydantic->google-generativeai<0.6.0,>=0.5.2->langchain-google-genai) (2.18.2)\n",
            "Requirement already satisfied: googleapis-common-protos<2.0.dev0,>=1.56.2 in /usr/local/lib/python3.10/dist-packages (from google-api-core->google-generativeai<0.6.0,>=0.5.2->langchain-google-genai) (1.63.0)\n",
            "Requirement already satisfied: httplib2<1dev,>=0.15.0 in /usr/local/lib/python3.10/dist-packages (from google-api-python-client->google-generativeai<0.6.0,>=0.5.2->langchain-google-genai) (0.22.0)\n",
            "Requirement already satisfied: google-auth-httplib2>=0.1.0 in /usr/local/lib/python3.10/dist-packages (from google-api-python-client->google-generativeai<0.6.0,>=0.5.2->langchain-google-genai) (0.1.1)\n",
            "Requirement already satisfied: uritemplate<5,>=3.0.1 in /usr/local/lib/python3.10/dist-packages (from google-api-python-client->google-generativeai<0.6.0,>=0.5.2->langchain-google-genai) (4.1.1)\n",
            "Requirement already satisfied: grpcio<2.0dev,>=1.33.2 in /usr/local/lib/python3.10/dist-packages (from google-api-core->google-generativeai<0.6.0,>=0.5.2->langchain-google-genai) (1.63.0)\n",
            "Requirement already satisfied: grpcio-status<2.0.dev0,>=1.33.2 in /usr/local/lib/python3.10/dist-packages (from google-api-core->google-generativeai<0.6.0,>=0.5.2->langchain-google-genai) (1.48.2)\n",
            "Requirement already satisfied: pyparsing!=3.0.0,!=3.0.1,!=3.0.2,!=3.0.3,<4,>=2.4.2 in /usr/local/lib/python3.10/dist-packages (from httplib2<1dev,>=0.15.0->google-api-python-client->google-generativeai<0.6.0,>=0.5.2->langchain-google-genai) (3.1.2)\n",
            "Requirement already satisfied: pyasn1<0.7.0,>=0.4.6 in /usr/local/lib/python3.10/dist-packages (from pyasn1-modules>=0.2.1->google-auth>=2.15.0->google-generativeai<0.6.0,>=0.5.2->langchain-google-genai) (0.6.0)\n",
            "Requirement already satisfied: charset-normalizer<4,>=2 in /usr/local/lib/python3.10/dist-packages (from requests<3,>=2->langsmith<0.2.0,>=0.1.0->langchain-core<0.2,>=0.1.45->langchain-google-genai) (3.3.2)\n",
            "Requirement already satisfied: idna<4,>=2.5 in /usr/local/lib/python3.10/dist-packages (from requests<3,>=2->langsmith<0.2.0,>=0.1.0->langchain-core<0.2,>=0.1.45->langchain-google-genai) (3.7)\n",
            "Requirement already satisfied: urllib3<3,>=1.21.1 in /usr/local/lib/python3.10/dist-packages (from requests<3,>=2->langsmith<0.2.0,>=0.1.0->langchain-core<0.2,>=0.1.45->langchain-google-genai) (2.0.7)\n",
            "Requirement already satisfied: certifi>=2017.4.17 in /usr/local/lib/python3.10/dist-packages (from requests<3,>=2->langsmith<0.2.0,>=0.1.0->langchain-core<0.2,>=0.1.45->langchain-google-genai) (2024.2.2)\n",
            "Installing collected packages: packaging, orjson, jsonpointer, jsonpatch, langsmith, langchain-core, langchain-google-genai\n",
            "  Attempting uninstall: packaging\n",
            "    Found existing installation: packaging 24.0\n",
            "    Uninstalling packaging-24.0:\n",
            "      Successfully uninstalled packaging-24.0\n",
            "Successfully installed jsonpatch-1.33 jsonpointer-2.4 langchain-core-0.1.52 langchain-google-genai-1.0.3 langsmith-0.1.56 orjson-3.10.3 packaging-23.2\n"
          ]
        }
      ],
      "source": [
        "%pip install langchain-google-genai pillow"
      ]
    },
    {
      "cell_type": "code",
      "execution_count": 3,
      "metadata": {
        "colab": {
          "base_uri": "https://localhost:8080/"
        },
        "id": "_de_KnOKVwxk",
        "outputId": "12837970-8eb5-4488-c412-2a0bfa9b46a7"
      },
      "outputs": [
        {
          "output_type": "stream",
          "name": "stdout",
          "text": [
            "\u001b[2K     \u001b[90m━━━━━━━━━━━━━━━━━━━━━━━━━━━━━━━━━━━━━━━━\u001b[0m \u001b[32m55.8/55.8 kB\u001b[0m \u001b[31m1.7 MB/s\u001b[0m eta \u001b[36m0:00:00\u001b[0m\n",
            "\u001b[2K     \u001b[90m━━━━━━━━━━━━━━━━━━━━━━━━━━━━━━━━━━━━━━━━\u001b[0m \u001b[32m125.6/125.6 kB\u001b[0m \u001b[31m6.3 MB/s\u001b[0m eta \u001b[36m0:00:00\u001b[0m\n",
            "\u001b[2K     \u001b[90m━━━━━━━━━━━━━━━━━━━━━━━━━━━━━━━━━━━━━━━━\u001b[0m \u001b[32m67.9/67.9 kB\u001b[0m \u001b[31m7.3 MB/s\u001b[0m eta \u001b[36m0:00:00\u001b[0m\n",
            "\u001b[2K     \u001b[90m━━━━━━━━━━━━━━━━━━━━━━━━━━━━━━━━━━━━━━━━\u001b[0m \u001b[32m139.0/139.0 kB\u001b[0m \u001b[31m11.0 MB/s\u001b[0m eta \u001b[36m0:00:00\u001b[0m\n",
            "\u001b[?25h"
          ]
        }
      ],
      "source": [
        "%pip install --upgrade --quiet  langchain-google-vertexai"
      ]
    },
    {
      "cell_type": "code",
      "execution_count": 4,
      "metadata": {
        "id": "pNQqkjqaVs6b"
      },
      "outputs": [],
      "source": [
        "from langchain_google_genai import ChatGoogleGenerativeAI\n",
        "llm = ChatGoogleGenerativeAI(model=\"gemini-pro\")"
      ]
    },
    {
      "cell_type": "code",
      "execution_count": 5,
      "metadata": {
        "colab": {
          "base_uri": "https://localhost:8080/"
        },
        "id": "R8qAo0i_X20-",
        "outputId": "36ddd79a-4d4d-4246-95d2-37e2f68cc7e3"
      },
      "outputs": [
        {
          "output_type": "stream",
          "name": "stdout",
          "text": [
            "Collecting chromadb\n",
            "  Downloading chromadb-0.5.0-py3-none-any.whl (526 kB)\n",
            "\u001b[2K     \u001b[90m━━━━━━━━━━━━━━━━━━━━━━━━━━━━━━━━━━━━━━━━\u001b[0m \u001b[32m526.8/526.8 kB\u001b[0m \u001b[31m5.4 MB/s\u001b[0m eta \u001b[36m0:00:00\u001b[0m\n",
            "\u001b[?25hRequirement already satisfied: build>=1.0.3 in /usr/local/lib/python3.10/dist-packages (from chromadb) (1.2.1)\n",
            "Requirement already satisfied: requests>=2.28 in /usr/local/lib/python3.10/dist-packages (from chromadb) (2.31.0)\n",
            "Requirement already satisfied: pydantic>=1.9 in /usr/local/lib/python3.10/dist-packages (from chromadb) (2.7.1)\n",
            "Collecting chroma-hnswlib==0.7.3 (from chromadb)\n",
            "  Downloading chroma_hnswlib-0.7.3-cp310-cp310-manylinux_2_17_x86_64.manylinux2014_x86_64.whl (2.4 MB)\n",
            "\u001b[2K     \u001b[90m━━━━━━━━━━━━━━━━━━━━━━━━━━━━━━━━━━━━━━━━\u001b[0m \u001b[32m2.4/2.4 MB\u001b[0m \u001b[31m14.7 MB/s\u001b[0m eta \u001b[36m0:00:00\u001b[0m\n",
            "\u001b[?25hCollecting fastapi>=0.95.2 (from chromadb)\n",
            "  Downloading fastapi-0.111.0-py3-none-any.whl (91 kB)\n",
            "\u001b[2K     \u001b[90m━━━━━━━━━━━━━━━━━━━━━━━━━━━━━━━━━━━━━━━━\u001b[0m \u001b[32m92.0/92.0 kB\u001b[0m \u001b[31m10.1 MB/s\u001b[0m eta \u001b[36m0:00:00\u001b[0m\n",
            "\u001b[?25hCollecting uvicorn[standard]>=0.18.3 (from chromadb)\n",
            "  Downloading uvicorn-0.29.0-py3-none-any.whl (60 kB)\n",
            "\u001b[2K     \u001b[90m━━━━━━━━━━━━━━━━━━━━━━━━━━━━━━━━━━━━━━━━\u001b[0m \u001b[32m60.8/60.8 kB\u001b[0m \u001b[31m5.7 MB/s\u001b[0m eta \u001b[36m0:00:00\u001b[0m\n",
            "\u001b[?25hRequirement already satisfied: numpy>=1.22.5 in /usr/local/lib/python3.10/dist-packages (from chromadb) (1.25.2)\n",
            "Collecting posthog>=2.4.0 (from chromadb)\n",
            "  Downloading posthog-3.5.0-py2.py3-none-any.whl (41 kB)\n",
            "\u001b[2K     \u001b[90m━━━━━━━━━━━━━━━━━━━━━━━━━━━━━━━━━━━━━━━━\u001b[0m \u001b[32m41.3/41.3 kB\u001b[0m \u001b[31m3.7 MB/s\u001b[0m eta \u001b[36m0:00:00\u001b[0m\n",
            "\u001b[?25hRequirement already satisfied: typing-extensions>=4.5.0 in /usr/local/lib/python3.10/dist-packages (from chromadb) (4.11.0)\n",
            "Collecting onnxruntime>=1.14.1 (from chromadb)\n",
            "  Downloading onnxruntime-1.17.3-cp310-cp310-manylinux_2_27_x86_64.manylinux_2_28_x86_64.whl (6.8 MB)\n",
            "\u001b[2K     \u001b[90m━━━━━━━━━━━━━━━━━━━━━━━━━━━━━━━━━━━━━━━━\u001b[0m \u001b[32m6.8/6.8 MB\u001b[0m \u001b[31m22.5 MB/s\u001b[0m eta \u001b[36m0:00:00\u001b[0m\n",
            "\u001b[?25hCollecting opentelemetry-api>=1.2.0 (from chromadb)\n",
            "  Downloading opentelemetry_api-1.24.0-py3-none-any.whl (60 kB)\n",
            "\u001b[2K     \u001b[90m━━━━━━━━━━━━━━━━━━━━━━━━━━━━━━━━━━━━━━━━\u001b[0m \u001b[32m60.1/60.1 kB\u001b[0m \u001b[31m2.6 MB/s\u001b[0m eta \u001b[36m0:00:00\u001b[0m\n",
            "\u001b[?25hCollecting opentelemetry-exporter-otlp-proto-grpc>=1.2.0 (from chromadb)\n",
            "  Downloading opentelemetry_exporter_otlp_proto_grpc-1.24.0-py3-none-any.whl (18 kB)\n",
            "Collecting opentelemetry-instrumentation-fastapi>=0.41b0 (from chromadb)\n",
            "  Downloading opentelemetry_instrumentation_fastapi-0.45b0-py3-none-any.whl (11 kB)\n",
            "Collecting opentelemetry-sdk>=1.2.0 (from chromadb)\n",
            "  Downloading opentelemetry_sdk-1.24.0-py3-none-any.whl (106 kB)\n",
            "\u001b[2K     \u001b[90m━━━━━━━━━━━━━━━━━━━━━━━━━━━━━━━━━━━━━━━━\u001b[0m \u001b[32m106.1/106.1 kB\u001b[0m \u001b[31m7.9 MB/s\u001b[0m eta \u001b[36m0:00:00\u001b[0m\n",
            "\u001b[?25hRequirement already satisfied: tokenizers>=0.13.2 in /usr/local/lib/python3.10/dist-packages (from chromadb) (0.19.1)\n",
            "Collecting pypika>=0.48.9 (from chromadb)\n",
            "  Downloading PyPika-0.48.9.tar.gz (67 kB)\n",
            "\u001b[2K     \u001b[90m━━━━━━━━━━━━━━━━━━━━━━━━━━━━━━━━━━━━━━━━\u001b[0m \u001b[32m67.3/67.3 kB\u001b[0m \u001b[31m7.3 MB/s\u001b[0m eta \u001b[36m0:00:00\u001b[0m\n",
            "\u001b[?25h  Installing build dependencies ... \u001b[?25l\u001b[?25hdone\n",
            "  Getting requirements to build wheel ... \u001b[?25l\u001b[?25hdone\n",
            "  Preparing metadata (pyproject.toml) ... \u001b[?25l\u001b[?25hdone\n",
            "Requirement already satisfied: tqdm>=4.65.0 in /usr/local/lib/python3.10/dist-packages (from chromadb) (4.66.4)\n",
            "Collecting overrides>=7.3.1 (from chromadb)\n",
            "  Downloading overrides-7.7.0-py3-none-any.whl (17 kB)\n",
            "Requirement already satisfied: importlib-resources in /usr/local/lib/python3.10/dist-packages (from chromadb) (6.4.0)\n",
            "Requirement already satisfied: grpcio>=1.58.0 in /usr/local/lib/python3.10/dist-packages (from chromadb) (1.63.0)\n",
            "Collecting bcrypt>=4.0.1 (from chromadb)\n",
            "  Downloading bcrypt-4.1.3-cp39-abi3-manylinux_2_28_x86_64.whl (283 kB)\n",
            "\u001b[2K     \u001b[90m━━━━━━━━━━━━━━━━━━━━━━━━━━━━━━━━━━━━━━━━\u001b[0m \u001b[32m283.7/283.7 kB\u001b[0m \u001b[31m22.6 MB/s\u001b[0m eta \u001b[36m0:00:00\u001b[0m\n",
            "\u001b[?25hRequirement already satisfied: typer>=0.9.0 in /usr/local/lib/python3.10/dist-packages (from chromadb) (0.9.4)\n",
            "Collecting kubernetes>=28.1.0 (from chromadb)\n",
            "  Downloading kubernetes-29.0.0-py2.py3-none-any.whl (1.6 MB)\n",
            "\u001b[2K     \u001b[90m━━━━━━━━━━━━━━━━━━━━━━━━━━━━━━━━━━━━━━━━\u001b[0m \u001b[32m1.6/1.6 MB\u001b[0m \u001b[31m31.4 MB/s\u001b[0m eta \u001b[36m0:00:00\u001b[0m\n",
            "\u001b[?25hRequirement already satisfied: tenacity>=8.2.3 in /usr/local/lib/python3.10/dist-packages (from chromadb) (8.3.0)\n",
            "Requirement already satisfied: PyYAML>=6.0.0 in /usr/local/lib/python3.10/dist-packages (from chromadb) (6.0.1)\n",
            "Collecting mmh3>=4.0.1 (from chromadb)\n",
            "  Downloading mmh3-4.1.0-cp310-cp310-manylinux_2_5_x86_64.manylinux1_x86_64.manylinux_2_17_x86_64.manylinux2014_x86_64.whl (67 kB)\n",
            "\u001b[2K     \u001b[90m━━━━━━━━━━━━━━━━━━━━━━━━━━━━━━━━━━━━━━━━\u001b[0m \u001b[32m67.6/67.6 kB\u001b[0m \u001b[31m7.6 MB/s\u001b[0m eta \u001b[36m0:00:00\u001b[0m\n",
            "\u001b[?25hRequirement already satisfied: orjson>=3.9.12 in /usr/local/lib/python3.10/dist-packages (from chromadb) (3.10.3)\n",
            "Requirement already satisfied: packaging>=19.1 in /usr/local/lib/python3.10/dist-packages (from build>=1.0.3->chromadb) (23.2)\n",
            "Requirement already satisfied: pyproject_hooks in /usr/local/lib/python3.10/dist-packages (from build>=1.0.3->chromadb) (1.1.0)\n",
            "Requirement already satisfied: tomli>=1.1.0 in /usr/local/lib/python3.10/dist-packages (from build>=1.0.3->chromadb) (2.0.1)\n",
            "Collecting starlette<0.38.0,>=0.37.2 (from fastapi>=0.95.2->chromadb)\n",
            "  Downloading starlette-0.37.2-py3-none-any.whl (71 kB)\n",
            "\u001b[2K     \u001b[90m━━━━━━━━━━━━━━━━━━━━━━━━━━━━━━━━━━━━━━━━\u001b[0m \u001b[32m71.9/71.9 kB\u001b[0m \u001b[31m8.9 MB/s\u001b[0m eta \u001b[36m0:00:00\u001b[0m\n",
            "\u001b[?25hCollecting fastapi-cli>=0.0.2 (from fastapi>=0.95.2->chromadb)\n",
            "  Downloading fastapi_cli-0.0.3-py3-none-any.whl (9.2 kB)\n",
            "Collecting httpx>=0.23.0 (from fastapi>=0.95.2->chromadb)\n",
            "  Downloading httpx-0.27.0-py3-none-any.whl (75 kB)\n",
            "\u001b[2K     \u001b[90m━━━━━━━━━━━━━━━━━━━━━━━━━━━━━━━━━━━━━━━━\u001b[0m \u001b[32m75.6/75.6 kB\u001b[0m \u001b[31m8.6 MB/s\u001b[0m eta \u001b[36m0:00:00\u001b[0m\n",
            "\u001b[?25hRequirement already satisfied: jinja2>=2.11.2 in /usr/local/lib/python3.10/dist-packages (from fastapi>=0.95.2->chromadb) (3.1.4)\n",
            "Collecting python-multipart>=0.0.7 (from fastapi>=0.95.2->chromadb)\n",
            "  Downloading python_multipart-0.0.9-py3-none-any.whl (22 kB)\n",
            "Collecting ujson!=4.0.2,!=4.1.0,!=4.2.0,!=4.3.0,!=5.0.0,!=5.1.0,>=4.0.1 (from fastapi>=0.95.2->chromadb)\n",
            "  Downloading ujson-5.9.0-cp310-cp310-manylinux_2_17_x86_64.manylinux2014_x86_64.whl (53 kB)\n",
            "\u001b[2K     \u001b[90m━━━━━━━━━━━━━━━━━━━━━━━━━━━━━━━━━━━━━━━━\u001b[0m \u001b[32m53.2/53.2 kB\u001b[0m \u001b[31m5.8 MB/s\u001b[0m eta \u001b[36m0:00:00\u001b[0m\n",
            "\u001b[?25hCollecting email_validator>=2.0.0 (from fastapi>=0.95.2->chromadb)\n",
            "  Downloading email_validator-2.1.1-py3-none-any.whl (30 kB)\n",
            "Requirement already satisfied: certifi>=14.05.14 in /usr/local/lib/python3.10/dist-packages (from kubernetes>=28.1.0->chromadb) (2024.2.2)\n",
            "Requirement already satisfied: six>=1.9.0 in /usr/local/lib/python3.10/dist-packages (from kubernetes>=28.1.0->chromadb) (1.16.0)\n",
            "Requirement already satisfied: python-dateutil>=2.5.3 in /usr/local/lib/python3.10/dist-packages (from kubernetes>=28.1.0->chromadb) (2.8.2)\n",
            "Requirement already satisfied: google-auth>=1.0.1 in /usr/local/lib/python3.10/dist-packages (from kubernetes>=28.1.0->chromadb) (2.27.0)\n",
            "Requirement already satisfied: websocket-client!=0.40.0,!=0.41.*,!=0.42.*,>=0.32.0 in /usr/local/lib/python3.10/dist-packages (from kubernetes>=28.1.0->chromadb) (1.8.0)\n",
            "Requirement already satisfied: requests-oauthlib in /usr/local/lib/python3.10/dist-packages (from kubernetes>=28.1.0->chromadb) (1.3.1)\n",
            "Requirement already satisfied: oauthlib>=3.2.2 in /usr/local/lib/python3.10/dist-packages (from kubernetes>=28.1.0->chromadb) (3.2.2)\n",
            "Requirement already satisfied: urllib3>=1.24.2 in /usr/local/lib/python3.10/dist-packages (from kubernetes>=28.1.0->chromadb) (2.0.7)\n",
            "Collecting coloredlogs (from onnxruntime>=1.14.1->chromadb)\n",
            "  Downloading coloredlogs-15.0.1-py2.py3-none-any.whl (46 kB)\n",
            "\u001b[2K     \u001b[90m━━━━━━━━━━━━━━━━━━━━━━━━━━━━━━━━━━━━━━━━\u001b[0m \u001b[32m46.0/46.0 kB\u001b[0m \u001b[31m4.2 MB/s\u001b[0m eta \u001b[36m0:00:00\u001b[0m\n",
            "\u001b[?25hRequirement already satisfied: flatbuffers in /usr/local/lib/python3.10/dist-packages (from onnxruntime>=1.14.1->chromadb) (24.3.25)\n",
            "Requirement already satisfied: protobuf in /usr/local/lib/python3.10/dist-packages (from onnxruntime>=1.14.1->chromadb) (3.20.3)\n",
            "Requirement already satisfied: sympy in /usr/local/lib/python3.10/dist-packages (from onnxruntime>=1.14.1->chromadb) (1.12)\n",
            "Collecting deprecated>=1.2.6 (from opentelemetry-api>=1.2.0->chromadb)\n",
            "  Downloading Deprecated-1.2.14-py2.py3-none-any.whl (9.6 kB)\n",
            "Collecting importlib-metadata<=7.0,>=6.0 (from opentelemetry-api>=1.2.0->chromadb)\n",
            "  Downloading importlib_metadata-7.0.0-py3-none-any.whl (23 kB)\n",
            "Requirement already satisfied: googleapis-common-protos~=1.52 in /usr/local/lib/python3.10/dist-packages (from opentelemetry-exporter-otlp-proto-grpc>=1.2.0->chromadb) (1.63.0)\n",
            "Collecting opentelemetry-exporter-otlp-proto-common==1.24.0 (from opentelemetry-exporter-otlp-proto-grpc>=1.2.0->chromadb)\n",
            "  Downloading opentelemetry_exporter_otlp_proto_common-1.24.0-py3-none-any.whl (17 kB)\n",
            "Collecting opentelemetry-proto==1.24.0 (from opentelemetry-exporter-otlp-proto-grpc>=1.2.0->chromadb)\n",
            "  Downloading opentelemetry_proto-1.24.0-py3-none-any.whl (50 kB)\n",
            "\u001b[2K     \u001b[90m━━━━━━━━━━━━━━━━━━━━━━━━━━━━━━━━━━━━━━━━\u001b[0m \u001b[32m50.8/50.8 kB\u001b[0m \u001b[31m5.9 MB/s\u001b[0m eta \u001b[36m0:00:00\u001b[0m\n",
            "\u001b[?25hCollecting opentelemetry-instrumentation-asgi==0.45b0 (from opentelemetry-instrumentation-fastapi>=0.41b0->chromadb)\n",
            "  Downloading opentelemetry_instrumentation_asgi-0.45b0-py3-none-any.whl (14 kB)\n",
            "Collecting opentelemetry-instrumentation==0.45b0 (from opentelemetry-instrumentation-fastapi>=0.41b0->chromadb)\n",
            "  Downloading opentelemetry_instrumentation-0.45b0-py3-none-any.whl (28 kB)\n",
            "Collecting opentelemetry-semantic-conventions==0.45b0 (from opentelemetry-instrumentation-fastapi>=0.41b0->chromadb)\n",
            "  Downloading opentelemetry_semantic_conventions-0.45b0-py3-none-any.whl (36 kB)\n",
            "Collecting opentelemetry-util-http==0.45b0 (from opentelemetry-instrumentation-fastapi>=0.41b0->chromadb)\n",
            "  Downloading opentelemetry_util_http-0.45b0-py3-none-any.whl (6.9 kB)\n",
            "Requirement already satisfied: setuptools>=16.0 in /usr/local/lib/python3.10/dist-packages (from opentelemetry-instrumentation==0.45b0->opentelemetry-instrumentation-fastapi>=0.41b0->chromadb) (67.7.2)\n",
            "Requirement already satisfied: wrapt<2.0.0,>=1.0.0 in /usr/local/lib/python3.10/dist-packages (from opentelemetry-instrumentation==0.45b0->opentelemetry-instrumentation-fastapi>=0.41b0->chromadb) (1.14.1)\n",
            "Collecting asgiref~=3.0 (from opentelemetry-instrumentation-asgi==0.45b0->opentelemetry-instrumentation-fastapi>=0.41b0->chromadb)\n",
            "  Downloading asgiref-3.8.1-py3-none-any.whl (23 kB)\n",
            "Collecting monotonic>=1.5 (from posthog>=2.4.0->chromadb)\n",
            "  Downloading monotonic-1.6-py2.py3-none-any.whl (8.2 kB)\n",
            "Collecting backoff>=1.10.0 (from posthog>=2.4.0->chromadb)\n",
            "  Downloading backoff-2.2.1-py3-none-any.whl (15 kB)\n",
            "Requirement already satisfied: annotated-types>=0.4.0 in /usr/local/lib/python3.10/dist-packages (from pydantic>=1.9->chromadb) (0.6.0)\n",
            "Requirement already satisfied: pydantic-core==2.18.2 in /usr/local/lib/python3.10/dist-packages (from pydantic>=1.9->chromadb) (2.18.2)\n",
            "Requirement already satisfied: charset-normalizer<4,>=2 in /usr/local/lib/python3.10/dist-packages (from requests>=2.28->chromadb) (3.3.2)\n",
            "Requirement already satisfied: idna<4,>=2.5 in /usr/local/lib/python3.10/dist-packages (from requests>=2.28->chromadb) (3.7)\n",
            "Requirement already satisfied: huggingface-hub<1.0,>=0.16.4 in /usr/local/lib/python3.10/dist-packages (from tokenizers>=0.13.2->chromadb) (0.20.3)\n",
            "Requirement already satisfied: click<9.0.0,>=7.1.1 in /usr/local/lib/python3.10/dist-packages (from typer>=0.9.0->chromadb) (8.1.7)\n",
            "Collecting h11>=0.8 (from uvicorn[standard]>=0.18.3->chromadb)\n",
            "  Downloading h11-0.14.0-py3-none-any.whl (58 kB)\n",
            "\u001b[2K     \u001b[90m━━━━━━━━━━━━━━━━━━━━━━━━━━━━━━━━━━━━━━━━\u001b[0m \u001b[32m58.3/58.3 kB\u001b[0m \u001b[31m5.6 MB/s\u001b[0m eta \u001b[36m0:00:00\u001b[0m\n",
            "\u001b[?25hCollecting httptools>=0.5.0 (from uvicorn[standard]>=0.18.3->chromadb)\n",
            "  Downloading httptools-0.6.1-cp310-cp310-manylinux_2_5_x86_64.manylinux1_x86_64.manylinux_2_17_x86_64.manylinux2014_x86_64.whl (341 kB)\n",
            "\u001b[2K     \u001b[90m━━━━━━━━━━━━━━━━━━━━━━━━━━━━━━━━━━━━━━━━\u001b[0m \u001b[32m341.4/341.4 kB\u001b[0m \u001b[31m30.0 MB/s\u001b[0m eta \u001b[36m0:00:00\u001b[0m\n",
            "\u001b[?25hCollecting python-dotenv>=0.13 (from uvicorn[standard]>=0.18.3->chromadb)\n",
            "  Downloading python_dotenv-1.0.1-py3-none-any.whl (19 kB)\n",
            "Collecting uvloop!=0.15.0,!=0.15.1,>=0.14.0 (from uvicorn[standard]>=0.18.3->chromadb)\n",
            "  Downloading uvloop-0.19.0-cp310-cp310-manylinux_2_17_x86_64.manylinux2014_x86_64.whl (3.4 MB)\n",
            "\u001b[2K     \u001b[90m━━━━━━━━━━━━━━━━━━━━━━━━━━━━━━━━━━━━━━━━\u001b[0m \u001b[32m3.4/3.4 MB\u001b[0m \u001b[31m42.6 MB/s\u001b[0m eta \u001b[36m0:00:00\u001b[0m\n",
            "\u001b[?25hCollecting watchfiles>=0.13 (from uvicorn[standard]>=0.18.3->chromadb)\n",
            "  Downloading watchfiles-0.21.0-cp310-cp310-manylinux_2_17_x86_64.manylinux2014_x86_64.whl (1.3 MB)\n",
            "\u001b[2K     \u001b[90m━━━━━━━━━━━━━━━━━━━━━━━━━━━━━━━━━━━━━━━━\u001b[0m \u001b[32m1.3/1.3 MB\u001b[0m \u001b[31m47.7 MB/s\u001b[0m eta \u001b[36m0:00:00\u001b[0m\n",
            "\u001b[?25hCollecting websockets>=10.4 (from uvicorn[standard]>=0.18.3->chromadb)\n",
            "  Downloading websockets-12.0-cp310-cp310-manylinux_2_5_x86_64.manylinux1_x86_64.manylinux_2_17_x86_64.manylinux2014_x86_64.whl (130 kB)\n",
            "\u001b[2K     \u001b[90m━━━━━━━━━━━━━━━━━━━━━━━━━━━━━━━━━━━━━━━━\u001b[0m \u001b[32m130.2/130.2 kB\u001b[0m \u001b[31m15.0 MB/s\u001b[0m eta \u001b[36m0:00:00\u001b[0m\n",
            "\u001b[?25hCollecting dnspython>=2.0.0 (from email_validator>=2.0.0->fastapi>=0.95.2->chromadb)\n",
            "  Downloading dnspython-2.6.1-py3-none-any.whl (307 kB)\n",
            "\u001b[2K     \u001b[90m━━━━━━━━━━━━━━━━━━━━━━━━━━━━━━━━━━━━━━━━\u001b[0m \u001b[32m307.7/307.7 kB\u001b[0m \u001b[31m28.3 MB/s\u001b[0m eta \u001b[36m0:00:00\u001b[0m\n",
            "\u001b[?25hCollecting typer>=0.9.0 (from chromadb)\n",
            "  Downloading typer-0.12.3-py3-none-any.whl (47 kB)\n",
            "\u001b[2K     \u001b[90m━━━━━━━━━━━━━━━━━━━━━━━━━━━━━━━━━━━━━━━━\u001b[0m \u001b[32m47.2/47.2 kB\u001b[0m \u001b[31m5.2 MB/s\u001b[0m eta \u001b[36m0:00:00\u001b[0m\n",
            "\u001b[?25hCollecting shellingham>=1.3.0 (from typer>=0.9.0->chromadb)\n",
            "  Downloading shellingham-1.5.4-py2.py3-none-any.whl (9.8 kB)\n",
            "Requirement already satisfied: rich>=10.11.0 in /usr/local/lib/python3.10/dist-packages (from typer>=0.9.0->chromadb) (13.7.1)\n",
            "Requirement already satisfied: cachetools<6.0,>=2.0.0 in /usr/local/lib/python3.10/dist-packages (from google-auth>=1.0.1->kubernetes>=28.1.0->chromadb) (5.3.3)\n",
            "Requirement already satisfied: pyasn1-modules>=0.2.1 in /usr/local/lib/python3.10/dist-packages (from google-auth>=1.0.1->kubernetes>=28.1.0->chromadb) (0.4.0)\n",
            "Requirement already satisfied: rsa<5,>=3.1.4 in /usr/local/lib/python3.10/dist-packages (from google-auth>=1.0.1->kubernetes>=28.1.0->chromadb) (4.9)\n",
            "Requirement already satisfied: anyio in /usr/local/lib/python3.10/dist-packages (from httpx>=0.23.0->fastapi>=0.95.2->chromadb) (3.7.1)\n",
            "Collecting httpcore==1.* (from httpx>=0.23.0->fastapi>=0.95.2->chromadb)\n",
            "  Downloading httpcore-1.0.5-py3-none-any.whl (77 kB)\n",
            "\u001b[2K     \u001b[90m━━━━━━━━━━━━━━━━━━━━━━━━━━━━━━━━━━━━━━━━\u001b[0m \u001b[32m77.9/77.9 kB\u001b[0m \u001b[31m7.2 MB/s\u001b[0m eta \u001b[36m0:00:00\u001b[0m\n",
            "\u001b[?25hRequirement already satisfied: sniffio in /usr/local/lib/python3.10/dist-packages (from httpx>=0.23.0->fastapi>=0.95.2->chromadb) (1.3.1)\n",
            "Requirement already satisfied: filelock in /usr/local/lib/python3.10/dist-packages (from huggingface-hub<1.0,>=0.16.4->tokenizers>=0.13.2->chromadb) (3.14.0)\n",
            "Requirement already satisfied: fsspec>=2023.5.0 in /usr/local/lib/python3.10/dist-packages (from huggingface-hub<1.0,>=0.16.4->tokenizers>=0.13.2->chromadb) (2023.6.0)\n",
            "Requirement already satisfied: zipp>=0.5 in /usr/local/lib/python3.10/dist-packages (from importlib-metadata<=7.0,>=6.0->opentelemetry-api>=1.2.0->chromadb) (3.18.1)\n",
            "Requirement already satisfied: MarkupSafe>=2.0 in /usr/local/lib/python3.10/dist-packages (from jinja2>=2.11.2->fastapi>=0.95.2->chromadb) (2.1.5)\n",
            "Requirement already satisfied: markdown-it-py>=2.2.0 in /usr/local/lib/python3.10/dist-packages (from rich>=10.11.0->typer>=0.9.0->chromadb) (3.0.0)\n",
            "Requirement already satisfied: pygments<3.0.0,>=2.13.0 in /usr/local/lib/python3.10/dist-packages (from rich>=10.11.0->typer>=0.9.0->chromadb) (2.16.1)\n",
            "Collecting humanfriendly>=9.1 (from coloredlogs->onnxruntime>=1.14.1->chromadb)\n",
            "  Downloading humanfriendly-10.0-py2.py3-none-any.whl (86 kB)\n",
            "\u001b[2K     \u001b[90m━━━━━━━━━━━━━━━━━━━━━━━━━━━━━━━━━━━━━━━━\u001b[0m \u001b[32m86.8/86.8 kB\u001b[0m \u001b[31m8.3 MB/s\u001b[0m eta \u001b[36m0:00:00\u001b[0m\n",
            "\u001b[?25hRequirement already satisfied: mpmath>=0.19 in /usr/local/lib/python3.10/dist-packages (from sympy->onnxruntime>=1.14.1->chromadb) (1.3.0)\n",
            "Requirement already satisfied: exceptiongroup in /usr/local/lib/python3.10/dist-packages (from anyio->httpx>=0.23.0->fastapi>=0.95.2->chromadb) (1.2.1)\n",
            "Requirement already satisfied: mdurl~=0.1 in /usr/local/lib/python3.10/dist-packages (from markdown-it-py>=2.2.0->rich>=10.11.0->typer>=0.9.0->chromadb) (0.1.2)\n",
            "Requirement already satisfied: pyasn1<0.7.0,>=0.4.6 in /usr/local/lib/python3.10/dist-packages (from pyasn1-modules>=0.2.1->google-auth>=1.0.1->kubernetes>=28.1.0->chromadb) (0.6.0)\n",
            "Building wheels for collected packages: pypika\n",
            "  Building wheel for pypika (pyproject.toml) ... \u001b[?25l\u001b[?25hdone\n",
            "  Created wheel for pypika: filename=PyPika-0.48.9-py2.py3-none-any.whl size=53724 sha256=7db21f6e9c3dc157b47b515c43733db2d38e078965770c8ba2dd86c56a336832\n",
            "  Stored in directory: /root/.cache/pip/wheels/e1/26/51/d0bffb3d2fd82256676d7ad3003faea3bd6dddc9577af665f4\n",
            "Successfully built pypika\n",
            "Installing collected packages: pypika, monotonic, mmh3, websockets, uvloop, ujson, shellingham, python-multipart, python-dotenv, overrides, opentelemetry-util-http, opentelemetry-semantic-conventions, opentelemetry-proto, importlib-metadata, humanfriendly, httptools, h11, dnspython, deprecated, chroma-hnswlib, bcrypt, backoff, asgiref, watchfiles, uvicorn, starlette, posthog, opentelemetry-exporter-otlp-proto-common, opentelemetry-api, httpcore, email_validator, coloredlogs, typer, opentelemetry-sdk, opentelemetry-instrumentation, onnxruntime, kubernetes, httpx, opentelemetry-instrumentation-asgi, opentelemetry-exporter-otlp-proto-grpc, opentelemetry-instrumentation-fastapi, fastapi-cli, fastapi, chromadb\n",
            "  Attempting uninstall: importlib-metadata\n",
            "    Found existing installation: importlib_metadata 7.1.0\n",
            "    Uninstalling importlib_metadata-7.1.0:\n",
            "      Successfully uninstalled importlib_metadata-7.1.0\n",
            "  Attempting uninstall: typer\n",
            "    Found existing installation: typer 0.9.4\n",
            "    Uninstalling typer-0.9.4:\n",
            "      Successfully uninstalled typer-0.9.4\n",
            "\u001b[31mERROR: pip's dependency resolver does not currently take into account all the packages that are installed. This behaviour is the source of the following dependency conflicts.\n",
            "spacy 3.7.4 requires typer<0.10.0,>=0.3.0, but you have typer 0.12.3 which is incompatible.\n",
            "weasel 0.3.4 requires typer<0.10.0,>=0.3.0, but you have typer 0.12.3 which is incompatible.\u001b[0m\u001b[31m\n",
            "\u001b[0mSuccessfully installed asgiref-3.8.1 backoff-2.2.1 bcrypt-4.1.3 chroma-hnswlib-0.7.3 chromadb-0.5.0 coloredlogs-15.0.1 deprecated-1.2.14 dnspython-2.6.1 email_validator-2.1.1 fastapi-0.111.0 fastapi-cli-0.0.3 h11-0.14.0 httpcore-1.0.5 httptools-0.6.1 httpx-0.27.0 humanfriendly-10.0 importlib-metadata-7.0.0 kubernetes-29.0.0 mmh3-4.1.0 monotonic-1.6 onnxruntime-1.17.3 opentelemetry-api-1.24.0 opentelemetry-exporter-otlp-proto-common-1.24.0 opentelemetry-exporter-otlp-proto-grpc-1.24.0 opentelemetry-instrumentation-0.45b0 opentelemetry-instrumentation-asgi-0.45b0 opentelemetry-instrumentation-fastapi-0.45b0 opentelemetry-proto-1.24.0 opentelemetry-sdk-1.24.0 opentelemetry-semantic-conventions-0.45b0 opentelemetry-util-http-0.45b0 overrides-7.7.0 posthog-3.5.0 pypika-0.48.9 python-dotenv-1.0.1 python-multipart-0.0.9 shellingham-1.5.4 starlette-0.37.2 typer-0.12.3 ujson-5.9.0 uvicorn-0.29.0 uvloop-0.19.0 watchfiles-0.21.0 websockets-12.0\n"
          ]
        }
      ],
      "source": [
        "%pip install chromadb"
      ]
    },
    {
      "cell_type": "code",
      "execution_count": 6,
      "metadata": {
        "colab": {
          "base_uri": "https://localhost:8080/"
        },
        "id": "wImxkJ5EWD1Y",
        "outputId": "1eb6efd0-0115-4d30-dabd-a0dc90720ad0"
      },
      "outputs": [
        {
          "output_type": "stream",
          "name": "stdout",
          "text": [
            "Collecting langchain-community\n",
            "  Downloading langchain_community-0.0.38-py3-none-any.whl (2.0 MB)\n",
            "\u001b[?25l     \u001b[90m━━━━━━━━━━━━━━━━━━━━━━━━━━━━━━━━━━━━━━━━\u001b[0m \u001b[32m0.0/2.0 MB\u001b[0m \u001b[31m?\u001b[0m eta \u001b[36m-:--:--\u001b[0m\r\u001b[2K     \u001b[91m━━\u001b[0m\u001b[91m╸\u001b[0m\u001b[90m━━━━━━━━━━━━━━━━━━━━━━━━━━━━━━━━━━━━━\u001b[0m \u001b[32m0.1/2.0 MB\u001b[0m \u001b[31m4.2 MB/s\u001b[0m eta \u001b[36m0:00:01\u001b[0m\r\u001b[2K     \u001b[91m━━━━━━━━━━━━━━━━━━━━━━━━━━━━━\u001b[0m\u001b[91m╸\u001b[0m\u001b[90m━━━━━━━━━━\u001b[0m \u001b[32m1.5/2.0 MB\u001b[0m \u001b[31m21.7 MB/s\u001b[0m eta \u001b[36m0:00:01\u001b[0m\r\u001b[2K     \u001b[91m━━━━━━━━━━━━━━━━━━━━━━━━━━━━━━━━━━━━━━━\u001b[0m\u001b[91m╸\u001b[0m \u001b[32m2.0/2.0 MB\u001b[0m \u001b[31m25.9 MB/s\u001b[0m eta \u001b[36m0:00:01\u001b[0m\r\u001b[2K     \u001b[90m━━━━━━━━━━━━━━━━━━━━━━━━━━━━━━━━━━━━━━━━\u001b[0m \u001b[32m2.0/2.0 MB\u001b[0m \u001b[31m17.9 MB/s\u001b[0m eta \u001b[36m0:00:00\u001b[0m\n",
            "\u001b[?25hRequirement already satisfied: langchain-core in /usr/local/lib/python3.10/dist-packages (0.1.52)\n",
            "Requirement already satisfied: PyYAML>=5.3 in /usr/local/lib/python3.10/dist-packages (from langchain-community) (6.0.1)\n",
            "Requirement already satisfied: SQLAlchemy<3,>=1.4 in /usr/local/lib/python3.10/dist-packages (from langchain-community) (2.0.30)\n",
            "Requirement already satisfied: aiohttp<4.0.0,>=3.8.3 in /usr/local/lib/python3.10/dist-packages (from langchain-community) (3.9.5)\n",
            "Collecting dataclasses-json<0.7,>=0.5.7 (from langchain-community)\n",
            "  Downloading dataclasses_json-0.6.5-py3-none-any.whl (28 kB)\n",
            "Requirement already satisfied: langsmith<0.2.0,>=0.1.0 in /usr/local/lib/python3.10/dist-packages (from langchain-community) (0.1.56)\n",
            "Requirement already satisfied: numpy<2,>=1 in /usr/local/lib/python3.10/dist-packages (from langchain-community) (1.25.2)\n",
            "Requirement already satisfied: requests<3,>=2 in /usr/local/lib/python3.10/dist-packages (from langchain-community) (2.31.0)\n",
            "Requirement already satisfied: tenacity<9.0.0,>=8.1.0 in /usr/local/lib/python3.10/dist-packages (from langchain-community) (8.3.0)\n",
            "Requirement already satisfied: jsonpatch<2.0,>=1.33 in /usr/local/lib/python3.10/dist-packages (from langchain-core) (1.33)\n",
            "Requirement already satisfied: packaging<24.0,>=23.2 in /usr/local/lib/python3.10/dist-packages (from langchain-core) (23.2)\n",
            "Requirement already satisfied: pydantic<3,>=1 in /usr/local/lib/python3.10/dist-packages (from langchain-core) (2.7.1)\n",
            "Requirement already satisfied: aiosignal>=1.1.2 in /usr/local/lib/python3.10/dist-packages (from aiohttp<4.0.0,>=3.8.3->langchain-community) (1.3.1)\n",
            "Requirement already satisfied: attrs>=17.3.0 in /usr/local/lib/python3.10/dist-packages (from aiohttp<4.0.0,>=3.8.3->langchain-community) (23.2.0)\n",
            "Requirement already satisfied: frozenlist>=1.1.1 in /usr/local/lib/python3.10/dist-packages (from aiohttp<4.0.0,>=3.8.3->langchain-community) (1.4.1)\n",
            "Requirement already satisfied: multidict<7.0,>=4.5 in /usr/local/lib/python3.10/dist-packages (from aiohttp<4.0.0,>=3.8.3->langchain-community) (6.0.5)\n",
            "Requirement already satisfied: yarl<2.0,>=1.0 in /usr/local/lib/python3.10/dist-packages (from aiohttp<4.0.0,>=3.8.3->langchain-community) (1.9.4)\n",
            "Requirement already satisfied: async-timeout<5.0,>=4.0 in /usr/local/lib/python3.10/dist-packages (from aiohttp<4.0.0,>=3.8.3->langchain-community) (4.0.3)\n",
            "Collecting marshmallow<4.0.0,>=3.18.0 (from dataclasses-json<0.7,>=0.5.7->langchain-community)\n",
            "  Downloading marshmallow-3.21.2-py3-none-any.whl (49 kB)\n",
            "\u001b[2K     \u001b[90m━━━━━━━━━━━━━━━━━━━━━━━━━━━━━━━━━━━━━━━━\u001b[0m \u001b[32m49.3/49.3 kB\u001b[0m \u001b[31m5.4 MB/s\u001b[0m eta \u001b[36m0:00:00\u001b[0m\n",
            "\u001b[?25hCollecting typing-inspect<1,>=0.4.0 (from dataclasses-json<0.7,>=0.5.7->langchain-community)\n",
            "  Downloading typing_inspect-0.9.0-py3-none-any.whl (8.8 kB)\n",
            "Requirement already satisfied: jsonpointer>=1.9 in /usr/local/lib/python3.10/dist-packages (from jsonpatch<2.0,>=1.33->langchain-core) (2.4)\n",
            "Requirement already satisfied: orjson<4.0.0,>=3.9.14 in /usr/local/lib/python3.10/dist-packages (from langsmith<0.2.0,>=0.1.0->langchain-community) (3.10.3)\n",
            "Requirement already satisfied: annotated-types>=0.4.0 in /usr/local/lib/python3.10/dist-packages (from pydantic<3,>=1->langchain-core) (0.6.0)\n",
            "Requirement already satisfied: pydantic-core==2.18.2 in /usr/local/lib/python3.10/dist-packages (from pydantic<3,>=1->langchain-core) (2.18.2)\n",
            "Requirement already satisfied: typing-extensions>=4.6.1 in /usr/local/lib/python3.10/dist-packages (from pydantic<3,>=1->langchain-core) (4.11.0)\n",
            "Requirement already satisfied: charset-normalizer<4,>=2 in /usr/local/lib/python3.10/dist-packages (from requests<3,>=2->langchain-community) (3.3.2)\n",
            "Requirement already satisfied: idna<4,>=2.5 in /usr/local/lib/python3.10/dist-packages (from requests<3,>=2->langchain-community) (3.7)\n",
            "Requirement already satisfied: urllib3<3,>=1.21.1 in /usr/local/lib/python3.10/dist-packages (from requests<3,>=2->langchain-community) (2.0.7)\n",
            "Requirement already satisfied: certifi>=2017.4.17 in /usr/local/lib/python3.10/dist-packages (from requests<3,>=2->langchain-community) (2024.2.2)\n",
            "Requirement already satisfied: greenlet!=0.4.17 in /usr/local/lib/python3.10/dist-packages (from SQLAlchemy<3,>=1.4->langchain-community) (3.0.3)\n",
            "Collecting mypy-extensions>=0.3.0 (from typing-inspect<1,>=0.4.0->dataclasses-json<0.7,>=0.5.7->langchain-community)\n",
            "  Downloading mypy_extensions-1.0.0-py3-none-any.whl (4.7 kB)\n",
            "Installing collected packages: mypy-extensions, marshmallow, typing-inspect, dataclasses-json, langchain-community\n",
            "Successfully installed dataclasses-json-0.6.5 langchain-community-0.0.38 marshmallow-3.21.2 mypy-extensions-1.0.0 typing-inspect-0.9.0\n"
          ]
        }
      ],
      "source": [
        "%pip install langchain-community langchain-core"
      ]
    },
    {
      "cell_type": "code",
      "execution_count": 9,
      "metadata": {
        "id": "gvQBF86aV-KZ"
      },
      "outputs": [],
      "source": [
        "from langchain_community.document_loaders import UnstructuredFileLoader"
      ]
    },
    {
      "cell_type": "code",
      "execution_count": 7,
      "metadata": {
        "colab": {
          "base_uri": "https://localhost:8080/"
        },
        "id": "S0xSiT0UWYWJ",
        "outputId": "14abb061-e430-4f99-c937-94e1ed356df8"
      },
      "outputs": [
        {
          "output_type": "stream",
          "name": "stdout",
          "text": [
            "Collecting langchain\n",
            "  Downloading langchain-0.1.19-py3-none-any.whl (1.0 MB)\n",
            "\u001b[2K     \u001b[90m━━━━━━━━━━━━━━━━━━━━━━━━━━━━━━━━━━━━━━━━\u001b[0m \u001b[32m1.0/1.0 MB\u001b[0m \u001b[31m7.7 MB/s\u001b[0m eta \u001b[36m0:00:00\u001b[0m\n",
            "\u001b[?25hRequirement already satisfied: PyYAML>=5.3 in /usr/local/lib/python3.10/dist-packages (from langchain) (6.0.1)\n",
            "Requirement already satisfied: SQLAlchemy<3,>=1.4 in /usr/local/lib/python3.10/dist-packages (from langchain) (2.0.30)\n",
            "Requirement already satisfied: aiohttp<4.0.0,>=3.8.3 in /usr/local/lib/python3.10/dist-packages (from langchain) (3.9.5)\n",
            "Requirement already satisfied: async-timeout<5.0.0,>=4.0.0 in /usr/local/lib/python3.10/dist-packages (from langchain) (4.0.3)\n",
            "Requirement already satisfied: dataclasses-json<0.7,>=0.5.7 in /usr/local/lib/python3.10/dist-packages (from langchain) (0.6.5)\n",
            "Requirement already satisfied: langchain-community<0.1,>=0.0.38 in /usr/local/lib/python3.10/dist-packages (from langchain) (0.0.38)\n",
            "Requirement already satisfied: langchain-core<0.2.0,>=0.1.52 in /usr/local/lib/python3.10/dist-packages (from langchain) (0.1.52)\n",
            "Collecting langchain-text-splitters<0.1,>=0.0.1 (from langchain)\n",
            "  Downloading langchain_text_splitters-0.0.1-py3-none-any.whl (21 kB)\n",
            "Requirement already satisfied: langsmith<0.2.0,>=0.1.17 in /usr/local/lib/python3.10/dist-packages (from langchain) (0.1.56)\n",
            "Requirement already satisfied: numpy<2,>=1 in /usr/local/lib/python3.10/dist-packages (from langchain) (1.25.2)\n",
            "Requirement already satisfied: pydantic<3,>=1 in /usr/local/lib/python3.10/dist-packages (from langchain) (2.7.1)\n",
            "Requirement already satisfied: requests<3,>=2 in /usr/local/lib/python3.10/dist-packages (from langchain) (2.31.0)\n",
            "Requirement already satisfied: tenacity<9.0.0,>=8.1.0 in /usr/local/lib/python3.10/dist-packages (from langchain) (8.3.0)\n",
            "Requirement already satisfied: aiosignal>=1.1.2 in /usr/local/lib/python3.10/dist-packages (from aiohttp<4.0.0,>=3.8.3->langchain) (1.3.1)\n",
            "Requirement already satisfied: attrs>=17.3.0 in /usr/local/lib/python3.10/dist-packages (from aiohttp<4.0.0,>=3.8.3->langchain) (23.2.0)\n",
            "Requirement already satisfied: frozenlist>=1.1.1 in /usr/local/lib/python3.10/dist-packages (from aiohttp<4.0.0,>=3.8.3->langchain) (1.4.1)\n",
            "Requirement already satisfied: multidict<7.0,>=4.5 in /usr/local/lib/python3.10/dist-packages (from aiohttp<4.0.0,>=3.8.3->langchain) (6.0.5)\n",
            "Requirement already satisfied: yarl<2.0,>=1.0 in /usr/local/lib/python3.10/dist-packages (from aiohttp<4.0.0,>=3.8.3->langchain) (1.9.4)\n",
            "Requirement already satisfied: marshmallow<4.0.0,>=3.18.0 in /usr/local/lib/python3.10/dist-packages (from dataclasses-json<0.7,>=0.5.7->langchain) (3.21.2)\n",
            "Requirement already satisfied: typing-inspect<1,>=0.4.0 in /usr/local/lib/python3.10/dist-packages (from dataclasses-json<0.7,>=0.5.7->langchain) (0.9.0)\n",
            "Requirement already satisfied: jsonpatch<2.0,>=1.33 in /usr/local/lib/python3.10/dist-packages (from langchain-core<0.2.0,>=0.1.52->langchain) (1.33)\n",
            "Requirement already satisfied: packaging<24.0,>=23.2 in /usr/local/lib/python3.10/dist-packages (from langchain-core<0.2.0,>=0.1.52->langchain) (23.2)\n",
            "Requirement already satisfied: orjson<4.0.0,>=3.9.14 in /usr/local/lib/python3.10/dist-packages (from langsmith<0.2.0,>=0.1.17->langchain) (3.10.3)\n",
            "Requirement already satisfied: annotated-types>=0.4.0 in /usr/local/lib/python3.10/dist-packages (from pydantic<3,>=1->langchain) (0.6.0)\n",
            "Requirement already satisfied: pydantic-core==2.18.2 in /usr/local/lib/python3.10/dist-packages (from pydantic<3,>=1->langchain) (2.18.2)\n",
            "Requirement already satisfied: typing-extensions>=4.6.1 in /usr/local/lib/python3.10/dist-packages (from pydantic<3,>=1->langchain) (4.11.0)\n",
            "Requirement already satisfied: charset-normalizer<4,>=2 in /usr/local/lib/python3.10/dist-packages (from requests<3,>=2->langchain) (3.3.2)\n",
            "Requirement already satisfied: idna<4,>=2.5 in /usr/local/lib/python3.10/dist-packages (from requests<3,>=2->langchain) (3.7)\n",
            "Requirement already satisfied: urllib3<3,>=1.21.1 in /usr/local/lib/python3.10/dist-packages (from requests<3,>=2->langchain) (2.0.7)\n",
            "Requirement already satisfied: certifi>=2017.4.17 in /usr/local/lib/python3.10/dist-packages (from requests<3,>=2->langchain) (2024.2.2)\n",
            "Requirement already satisfied: greenlet!=0.4.17 in /usr/local/lib/python3.10/dist-packages (from SQLAlchemy<3,>=1.4->langchain) (3.0.3)\n",
            "Requirement already satisfied: jsonpointer>=1.9 in /usr/local/lib/python3.10/dist-packages (from jsonpatch<2.0,>=1.33->langchain-core<0.2.0,>=0.1.52->langchain) (2.4)\n",
            "Requirement already satisfied: mypy-extensions>=0.3.0 in /usr/local/lib/python3.10/dist-packages (from typing-inspect<1,>=0.4.0->dataclasses-json<0.7,>=0.5.7->langchain) (1.0.0)\n",
            "Installing collected packages: langchain-text-splitters, langchain\n",
            "Successfully installed langchain-0.1.19 langchain-text-splitters-0.0.1\n"
          ]
        }
      ],
      "source": [
        "%pip install langchain"
      ]
    },
    {
      "cell_type": "code",
      "execution_count": 8,
      "metadata": {
        "id": "4s_qOKW8WQ8b"
      },
      "outputs": [],
      "source": [
        "from langchain import PromptTemplate\n",
        "from langchain import hub\n",
        "from langchain.docstore.document import Document\n",
        "from langchain.document_loaders import WebBaseLoader\n",
        "from langchain.schema import StrOutputParser\n",
        "from langchain.schema.prompt_template import format_document\n",
        "from langchain.schema.runnable import RunnablePassthrough\n",
        "from langchain.vectorstores import Chroma"
      ]
    },
    {
      "cell_type": "code",
      "execution_count": 10,
      "metadata": {
        "id": "TM3VbwGPXHHW"
      },
      "outputs": [],
      "source": [
        "from langchain_community.document_loaders import UnstructuredFileLoader"
      ]
    },
    {
      "cell_type": "code",
      "execution_count": 11,
      "metadata": {
        "colab": {
          "base_uri": "https://localhost:8080/"
        },
        "id": "INjl9AS6XSEK",
        "outputId": "c4c60bd9-ea95-40e6-ae27-7a955d5d8cef"
      },
      "outputs": [
        {
          "output_type": "stream",
          "name": "stdout",
          "text": [
            "Collecting unstructured\n",
            "  Downloading unstructured-0.13.7-py3-none-any.whl (1.9 MB)\n",
            "\u001b[2K     \u001b[90m━━━━━━━━━━━━━━━━━━━━━━━━━━━━━━━━━━━━━━━━\u001b[0m \u001b[32m1.9/1.9 MB\u001b[0m \u001b[31m8.9 MB/s\u001b[0m eta \u001b[36m0:00:00\u001b[0m\n",
            "\u001b[?25hRequirement already satisfied: chardet in /usr/local/lib/python3.10/dist-packages (from unstructured) (5.2.0)\n",
            "Collecting filetype (from unstructured)\n",
            "  Downloading filetype-1.2.0-py2.py3-none-any.whl (19 kB)\n",
            "Collecting python-magic (from unstructured)\n",
            "  Downloading python_magic-0.4.27-py2.py3-none-any.whl (13 kB)\n",
            "Requirement already satisfied: lxml in /usr/local/lib/python3.10/dist-packages (from unstructured) (4.9.4)\n",
            "Requirement already satisfied: nltk in /usr/local/lib/python3.10/dist-packages (from unstructured) (3.8.1)\n",
            "Requirement already satisfied: tabulate in /usr/local/lib/python3.10/dist-packages (from unstructured) (0.9.0)\n",
            "Requirement already satisfied: requests in /usr/local/lib/python3.10/dist-packages (from unstructured) (2.31.0)\n",
            "Requirement already satisfied: beautifulsoup4 in /usr/local/lib/python3.10/dist-packages (from unstructured) (4.12.3)\n",
            "Collecting emoji (from unstructured)\n",
            "  Downloading emoji-2.11.1-py2.py3-none-any.whl (433 kB)\n",
            "\u001b[2K     \u001b[90m━━━━━━━━━━━━━━━━━━━━━━━━━━━━━━━━━━━━━━━━\u001b[0m \u001b[32m433.8/433.8 kB\u001b[0m \u001b[31m9.7 MB/s\u001b[0m eta \u001b[36m0:00:00\u001b[0m\n",
            "\u001b[?25hRequirement already satisfied: dataclasses-json in /usr/local/lib/python3.10/dist-packages (from unstructured) (0.6.5)\n",
            "Collecting python-iso639 (from unstructured)\n",
            "  Downloading python_iso639-2024.4.27-py3-none-any.whl (274 kB)\n",
            "\u001b[2K     \u001b[90m━━━━━━━━━━━━━━━━━━━━━━━━━━━━━━━━━━━━━━━━\u001b[0m \u001b[32m274.7/274.7 kB\u001b[0m \u001b[31m6.6 MB/s\u001b[0m eta \u001b[36m0:00:00\u001b[0m\n",
            "\u001b[?25hCollecting langdetect (from unstructured)\n",
            "  Downloading langdetect-1.0.9.tar.gz (981 kB)\n",
            "\u001b[2K     \u001b[90m━━━━━━━━━━━━━━━━━━━━━━━━━━━━━━━━━━━━━━━━\u001b[0m \u001b[32m981.5/981.5 kB\u001b[0m \u001b[31m12.0 MB/s\u001b[0m eta \u001b[36m0:00:00\u001b[0m\n",
            "\u001b[?25h  Preparing metadata (setup.py) ... \u001b[?25l\u001b[?25hdone\n",
            "Requirement already satisfied: numpy in /usr/local/lib/python3.10/dist-packages (from unstructured) (1.25.2)\n",
            "Collecting rapidfuzz (from unstructured)\n",
            "  Downloading rapidfuzz-3.9.0-cp310-cp310-manylinux_2_17_x86_64.manylinux2014_x86_64.whl (3.4 MB)\n",
            "\u001b[2K     \u001b[90m━━━━━━━━━━━━━━━━━━━━━━━━━━━━━━━━━━━━━━━━\u001b[0m \u001b[32m3.4/3.4 MB\u001b[0m \u001b[31m18.5 MB/s\u001b[0m eta \u001b[36m0:00:00\u001b[0m\n",
            "\u001b[?25hRequirement already satisfied: backoff in /usr/local/lib/python3.10/dist-packages (from unstructured) (2.2.1)\n",
            "Requirement already satisfied: typing-extensions in /usr/local/lib/python3.10/dist-packages (from unstructured) (4.11.0)\n",
            "Collecting unstructured-client (from unstructured)\n",
            "  Downloading unstructured_client-0.22.0-py3-none-any.whl (28 kB)\n",
            "Requirement already satisfied: wrapt in /usr/local/lib/python3.10/dist-packages (from unstructured) (1.14.1)\n",
            "Requirement already satisfied: soupsieve>1.2 in /usr/local/lib/python3.10/dist-packages (from beautifulsoup4->unstructured) (2.5)\n",
            "Requirement already satisfied: marshmallow<4.0.0,>=3.18.0 in /usr/local/lib/python3.10/dist-packages (from dataclasses-json->unstructured) (3.21.2)\n",
            "Requirement already satisfied: typing-inspect<1,>=0.4.0 in /usr/local/lib/python3.10/dist-packages (from dataclasses-json->unstructured) (0.9.0)\n",
            "Requirement already satisfied: six in /usr/local/lib/python3.10/dist-packages (from langdetect->unstructured) (1.16.0)\n",
            "Requirement already satisfied: click in /usr/local/lib/python3.10/dist-packages (from nltk->unstructured) (8.1.7)\n",
            "Requirement already satisfied: joblib in /usr/local/lib/python3.10/dist-packages (from nltk->unstructured) (1.4.2)\n",
            "Requirement already satisfied: regex>=2021.8.3 in /usr/local/lib/python3.10/dist-packages (from nltk->unstructured) (2023.12.25)\n",
            "Requirement already satisfied: tqdm in /usr/local/lib/python3.10/dist-packages (from nltk->unstructured) (4.66.4)\n",
            "Requirement already satisfied: charset-normalizer<4,>=2 in /usr/local/lib/python3.10/dist-packages (from requests->unstructured) (3.3.2)\n",
            "Requirement already satisfied: idna<4,>=2.5 in /usr/local/lib/python3.10/dist-packages (from requests->unstructured) (3.7)\n",
            "Requirement already satisfied: urllib3<3,>=1.21.1 in /usr/local/lib/python3.10/dist-packages (from requests->unstructured) (2.0.7)\n",
            "Requirement already satisfied: certifi>=2017.4.17 in /usr/local/lib/python3.10/dist-packages (from requests->unstructured) (2024.2.2)\n",
            "Collecting deepdiff>=6.0 (from unstructured-client->unstructured)\n",
            "  Downloading deepdiff-7.0.1-py3-none-any.whl (80 kB)\n",
            "\u001b[2K     \u001b[90m━━━━━━━━━━━━━━━━━━━━━━━━━━━━━━━━━━━━━━━━\u001b[0m \u001b[32m80.8/80.8 kB\u001b[0m \u001b[31m8.3 MB/s\u001b[0m eta \u001b[36m0:00:00\u001b[0m\n",
            "\u001b[?25hCollecting jsonpath-python>=1.0.6 (from unstructured-client->unstructured)\n",
            "  Downloading jsonpath_python-1.0.6-py3-none-any.whl (7.6 kB)\n",
            "Requirement already satisfied: mypy-extensions>=1.0.0 in /usr/local/lib/python3.10/dist-packages (from unstructured-client->unstructured) (1.0.0)\n",
            "Requirement already satisfied: packaging>=23.1 in /usr/local/lib/python3.10/dist-packages (from unstructured-client->unstructured) (23.2)\n",
            "Collecting pypdf>=4.0 (from unstructured-client->unstructured)\n",
            "  Downloading pypdf-4.2.0-py3-none-any.whl (290 kB)\n",
            "\u001b[2K     \u001b[90m━━━━━━━━━━━━━━━━━━━━━━━━━━━━━━━━━━━━━━━━\u001b[0m \u001b[32m290.4/290.4 kB\u001b[0m \u001b[31m24.2 MB/s\u001b[0m eta \u001b[36m0:00:00\u001b[0m\n",
            "\u001b[?25hRequirement already satisfied: python-dateutil>=2.8.2 in /usr/local/lib/python3.10/dist-packages (from unstructured-client->unstructured) (2.8.2)\n",
            "Collecting ordered-set<4.2.0,>=4.1.0 (from deepdiff>=6.0->unstructured-client->unstructured)\n",
            "  Downloading ordered_set-4.1.0-py3-none-any.whl (7.6 kB)\n",
            "Building wheels for collected packages: langdetect\n",
            "  Building wheel for langdetect (setup.py) ... \u001b[?25l\u001b[?25hdone\n",
            "  Created wheel for langdetect: filename=langdetect-1.0.9-py3-none-any.whl size=993227 sha256=6f1f6b22625e0b32f8a061a76751b8d49d8e94d6e5f954bae1192946a4cd3c99\n",
            "  Stored in directory: /root/.cache/pip/wheels/95/03/7d/59ea870c70ce4e5a370638b5462a7711ab78fba2f655d05106\n",
            "Successfully built langdetect\n",
            "Installing collected packages: filetype, rapidfuzz, python-magic, python-iso639, pypdf, ordered-set, langdetect, jsonpath-python, emoji, deepdiff, unstructured-client, unstructured\n",
            "Successfully installed deepdiff-7.0.1 emoji-2.11.1 filetype-1.2.0 jsonpath-python-1.0.6 langdetect-1.0.9 ordered-set-4.1.0 pypdf-4.2.0 python-iso639-2024.4.27 python-magic-0.4.27 rapidfuzz-3.9.0 unstructured-0.13.7 unstructured-client-0.22.0\n"
          ]
        }
      ],
      "source": [
        "%pip install unstructured"
      ]
    },
    {
      "cell_type": "code",
      "execution_count": 12,
      "metadata": {
        "id": "MDnxvHwTWlLB"
      },
      "outputs": [],
      "source": [
        "loader = UnstructuredFileLoader(\"/content/output_temp_hum_press.txt\")"
      ]
    },
    {
      "cell_type": "code",
      "execution_count": 13,
      "metadata": {
        "id": "z99N-flwW92H"
      },
      "outputs": [],
      "source": [
        "docs = loader.load()"
      ]
    },
    {
      "cell_type": "code",
      "execution_count": 14,
      "metadata": {
        "id": "6auMhYn4XeCz"
      },
      "outputs": [],
      "source": [
        "text_content = docs[0].page_content"
      ]
    },
    {
      "cell_type": "code",
      "execution_count": 15,
      "metadata": {
        "colab": {
          "base_uri": "https://localhost:8080/",
          "height": 157
        },
        "id": "hYvzuBQvpv5Y",
        "outputId": "1fe30104-a7ef-45ba-b337-ed4d92acebf6"
      },
      "outputs": [
        {
          "output_type": "execute_result",
          "data": {
            "text/plain": [
              "'\\n\\n\\nFor April\\nday 1\\ntemperature = 24.78\\nhumidity = 0.75\\npressure = 1015.78\\n\\n\\nFor April\\nday 2\\ntemperature = 25.97\\nhumidity = 0.49\\npressure = 1024.53\\n\\n\\nFor April\\nday 3\\ntemperature = 32.1\\nhumidity = 0.51\\npressure = 1023.66\\n\\n\\nFor April\\nday 4\\ntemperature = 49.36\\nhumidity = 0.83\\npressure = 1001.75\\n\\n\\nFor April\\nday 5\\ntemperature = 39.94\\nhumidity = 0.63\\npressure = 1001.66\\n\\n\\nFor April\\nday 6\\ntemperature = 37.01\\nhumidity = 0.49\\npressure = 1009.69\\n\\n\\nFor April\\nday 7\\ntemperature = 38.59\\nhumidity = 0.4\\npressure = 1023.81\\n\\n\\nFor April\\nday 8\\ntemperature = 48.58\\nhumidity = 0.69\\npressure = 1018.17\\n\\n\\nFor April\\nday 9\\ntemperature = 43.09\\nhumidity = 0.67\\npressure = 1020.26\\n\\n\\nFor April\\nday 10\\ntemperature = 42.7\\nhumidity = 0.52\\npressure = 1027.78\\n\\n\\nFor April\\nday 11\\ntemperature = 43.55\\nhumidity = 0.48\\npressure = 1028.64\\n\\n\\nFor April\\nday 12\\ntemperature = 46.82\\nhumidity = 0.42\\npressure = 1030.46\\n\\n\\nFor April\\nday 13\\ntemperature = 47.99\\nhumidity = 0.41\\npressure = 1030.93\\n\\n\\nFor April\\nday 14\\ntemperature = 55.22\\nhumidity = 0.45\\npressure = 1025.46\\n\\n\\nFor April\\nday 15\\ntemperature = 60.79\\nhumidity = 0.41\\npressure = 1017.71\\n\\n\\nFor April\\nday 16\\ntemperature = 51.88\\nhumidity = 0.36\\npressure = 1019.55\\n\\n\\nFor April\\nday 17\\ntemperature = 49.12\\nhumidity = 0.45\\npressure = 1022.0\\n\\n\\nFor April\\nday 18\\ntemperature = 63.49\\nhumidity = 0.47\\npressure = 1013.55\\n\\n\\nFor April\\nday 19\\ntemperature = 62.02\\nhumidity = 0.75\\npressure = 1009.51\\n\\n\\nFor April\\nday 20\\ntemperature = 49.35\\nhumidity = 0.36\\npressure = 1015.24\\n\\n\\nFor April\\nday 21\\ntemperature = 51.23\\nhumidity = 0.36\\npressure = 1016.48\\n\\n\\nFor April\\nday 22\\ntemperature = 48.22\\nhumidity = 0.61\\npressure = 1010.26\\n\\n\\nFor April\\nday 23\\ntemperature = 43.59\\nhumidity = 0.69\\npressure = 1011.79\\n\\n\\nFor April\\nday 24\\ntemperature = 48.35\\nhumidity = 0.37\\npressure = 1014.59\\n\\n\\nFor April\\nday 25\\ntemperature = 50.01\\nhumidity = 0.51\\npressure = 1018.71\\n\\n\\nFor April\\nday 26\\ntemperature = 52.91\\nhumidity = 0.53\\npressure = 1021.23\\n\\n\\nFor April\\nday 27\\ntemperature = 46.74\\nhumidity = 0.67\\npressure = 1022.58\\n\\n\\nFor April\\nday 28\\ntemperature = 45.4\\nhumidity = 0.9\\npressure = 1015.82\\n\\n\\nFor April\\nday 29\\ntemperature = 49.01\\nhumidity = 0.89\\npressure = 1012.01\\n\\n\\nFor April\\nday 30\\ntemperature = 47.54\\nhumidity = 0.84\\npressure = 1009.87\\n\\n\\nFor August\\nday 1\\ntemperature = 71.04\\nhumidity = 0.6\\npressure = 1020.79\\n\\n\\nFor August\\nday 2\\ntemperature = 74.71\\nhumidity = 0.74\\npressure = 1021.2\\n\\n\\nFor August\\nday 3\\ntemperature = 79.48\\nhumidity = 0.82\\npressure = 1017.64\\n\\n\\nFor August\\nday 4\\ntemperature = 79.61\\nhumidity = 0.8\\npressure = 1011.79\\n\\n\\nFor August\\nday 5\\ntemperature = 80.22\\nhumidity = 0.8\\npressure = 1011.53\\n\\n\\nFor August\\nday 6\\ntemperature = 79.62\\nhumidity = 0.77\\npressure = 1012.81\\n\\n\\nFor August\\nday 7\\ntemperature = 75.64\\nhumidity = 0.69\\npressure = 1020.15\\n\\n\\nFor August\\nday 8\\ntemperature = 75.41\\nhumidity = 0.8\\npressure = 1019.38\\n\\n\\nFor August\\nday 9\\ntemperature = 74.17\\nhumidity = 0.7\\npressure = 1014.76\\n\\n\\nFor August\\nday 10\\ntemperature = 73.74\\nhumidity = 0.73\\npressure = 1014.49\\n\\n\\nFor August\\nday 11\\ntemperature = 72.71\\nhumidity = 0.7\\npressure = 1014.0\\n\\n\\nFor August\\nday 12\\ntemperature = 73.86\\nhumidity = 0.74\\npressure = 1013.87\\n\\n\\nFor August\\nday 13\\ntemperature = 73.44\\nhumidity = 0.78\\npressure = 1010.24\\n\\n\\nFor August\\nday 14\\ntemperature = 62.48\\nhumidity = 0.68\\npressure = 1019.65\\n\\n\\nFor August\\nday 15\\ntemperature = 66.52\\nhumidity = 0.69\\npressure = 1024.79\\n\\n\\nFor August\\nday 16\\ntemperature = 73.14\\nhumidity = 0.68\\npressure = 1020.6\\n\\n\\nFor August\\nday 17\\ntemperature = 75.95\\nhumidity = 0.76\\npressure = 1015.09\\n\\n\\nFor August\\nday 18\\ntemperature = 74.83\\nhumidity = 0.67\\npressure = 1018.86\\n\\n\\nFor August\\nday 19\\ntemperature = 73.87\\nhumidity = 0.68\\npressure = 1023.36\\n\\n\\nFor August\\nday 20\\ntemperature = 76.62\\nhumidity = 0.63\\npressure = 1019.48\\n\\n\\nFor August\\nday 21\\ntemperature = 68.7\\nhumidity = 0.64\\npressure = 1020.63\\n\\n\\nFor August\\nday 22\\ntemperature = 69.2\\nhumidity = 0.77\\npressure = 1015.3\\n\\n\\nFor August\\nday 23\\ntemperature = 71.41\\nhumidity = 0.79\\npressure = 1010.97\\n\\n\\nFor August\\nday 24\\ntemperature = 66.35\\nhumidity = 0.66\\npressure = 1017.38\\n\\n\\nFor August\\nday 25\\ntemperature = 63.06\\nhumidity = 0.7\\npressure = 1022.82\\n\\n\\nFor August\\nday 26\\ntemperature = 64.15\\nhumidity = 0.67\\npressure = 1024.6\\n\\n\\nFor August\\nday 27\\ntemperature = 66.22\\nhumidity = 0.63\\npressure = 1021.39\\n\\n\\nFor August\\nday 28\\ntemperature = 69.88\\nhumidity = 0.78\\npressure = 1017.53\\n\\n\\nFor August\\nday 29\\ntemperature = 71.52\\nhumidity = 0.82\\npressure = 1016.16\\n\\n\\nFor August\\nday 30\\ntemperature = 75.07\\nhumidity = 0.79\\npressure = 1010.77\\n\\n\\nFor August\\nday 31\\ntemperature = 76.71\\nhumidity = 0.73\\npressure = 1013.39\\n\\n\\nFor December\\nday 1\\ntemperature = 19.08\\nhumidity = 0.45\\npressure = 1010.84\\n\\n\\nFor December\\nday 2\\ntemperature = 11.99\\nhumidity = 0.55\\npressure = 1027.79\\n\\n\\nFor December\\nday 3\\ntemperature = 26.74\\nhumidity = 0.9\\npressure = 1014.89\\n\\n\\nFor December\\nday 4\\ntemperature = 33.85\\nhumidity = 0.67\\npressure = 1019.29\\n\\n\\nFor December\\nday 5\\ntemperature = 12.64\\nhumidity = 0.6\\npressure = 1039.61\\n\\n\\nFor December\\nday 6\\ntemperature = 19.97\\nhumidity = 0.61\\npressure = 1025.19\\n\\n\\nFor December\\nday 7\\ntemperature = 28.52\\nhumidity = 0.73\\npressure = 1020.19\\n\\n\\nFor December\\nday 8\\ntemperature = 34.49\\nhumidity = 0.69\\npressure = 1019.74\\n\\n\\nFor December\\nday 9\\ntemperature = 34.95\\nhumidity = 0.69\\npressure = 1025.46\\n\\n\\nFor December\\nday 10\\ntemperature = 38.08\\nhumidity = 0.75\\npressure = 1023.39\\n\\n\\nFor December\\nday 11\\ntemperature = 26.57\\nhumidity = 0.54\\npressure = 1039.35\\n\\n\\nFor December\\nday 12\\ntemperature = 43.9\\nhumidity = 0.79\\npressure = 1015.27\\n\\n\\nFor December\\nday 13\\ntemperature = 35.56\\nhumidity = 0.62\\npressure = 1014.64\\n\\n\\nFor December\\nday 14\\ntemperature = 29.96\\nhumidity = 0.78\\npressure = 1013.82\\n\\n\\nFor December\\nday 15\\ntemperature = 32.68\\nhumidity = 0.75\\npressure = 999.37\\n\\n\\nFor December\\nday 16\\ntemperature = 36.18\\nhumidity = 0.8\\npressure = 1011.99\\n\\n\\nFor February\\nday 1\\ntemperature = 35.95\\nhumidity = 0.62\\npressure = 1023.12\\n\\n\\nFor February\\nday 2\\ntemperature = 40.62\\nhumidity = 0.81\\npressure = 1020.23\\n\\n\\nFor February\\nday 3\\ntemperature = 48.43\\nhumidity = 0.69\\npressure = 1014.43\\n\\n\\nFor February\\nday 4\\ntemperature = 32.38\\nhumidity = 0.67\\npressure = 1019.34\\n\\n\\nFor February\\nday 5\\ntemperature = 26.2\\nhumidity = 0.69\\npressure = 1026.03\\n\\n\\nFor February\\nday 6\\ntemperature = 31.12\\nhumidity = 0.66\\npressure = 1019.88\\n\\n\\nFor February\\nday 7\\ntemperature = 25.42\\nhumidity = 0.7\\npressure = 1009.87\\n\\n\\nFor February\\nday 8\\ntemperature = 22.91\\nhumidity = 0.77\\npressure = 1003.84\\n\\n\\nFor February\\nday 9\\ntemperature = 27.66\\nhumidity = 0.77\\npressure = 1002.85\\n\\n\\nFor February\\nday 10\\ntemperature = 15.4\\nhumidity = 0.53\\npressure = 1012.88\\n\\n\\nFor February\\nday 11\\ntemperature = 13.7\\nhumidity = 0.58\\npressure = 1016.8\\n\\n\\nFor February\\nday 12\\ntemperature = 2.18\\nhumidity = 0.46\\npressure = 1019.69\\n\\n\\nFor February\\nday 13\\ntemperature = -2.87\\nhumidity = 0.5\\npressure = 1033.18\\n\\n\\nFor February\\nday 14\\ntemperature = 16.5\\nhumidity = 0.77\\npressure = 1027.31\\n\\n\\nFor February\\nday 15\\ntemperature = 40.28\\nhumidity = 0.8\\npressure = 1005.56\\n\\n\\nFor February\\nday 16\\ntemperature = 30.88\\nhumidity = 0.62\\npressure = 1019.51\\n\\n\\nFor February\\nday 17\\ntemperature = 21.71\\nhumidity = 0.48\\npressure = 1032.8\\n\\n\\nFor February\\nday 18\\ntemperature = 35.72\\nhumidity = 0.55\\npressure = 1022.17\\n\\n\\nFor February\\nday 19\\ntemperature = 48.32\\nhumidity = 0.53\\npressure = 1009.1\\n\\n\\nFor February\\nday 20\\ntemperature = 39.88\\nhumidity = 0.61\\npressure = 1015.58\\n\\n\\nFor February\\nday 21\\ntemperature = 30.74\\nhumidity = 0.5\\npressure = 1026.23\\n\\n\\nFor February\\nday 22\\ntemperature = 33.99\\nhumidity = 0.82\\npressure = 1023.43\\n\\n\\nFor February\\nday 23\\ntemperature = 49.85\\nhumidity = 0.85\\npressure = 995.1\\n\\n\\nFor February\\nday 24\\ntemperature = 34.03\\nhumidity = 0.61\\npressure = 999.67\\n\\n\\nFor February\\nday 25\\ntemperature = 25.56\\nhumidity = 0.49\\npressure = 1016.4\\n\\n\\nFor February\\nday 26\\ntemperature = 39.6\\nhumidity = 0.48\\npressure = 1011.41\\n\\n\\nFor February\\nday 27\\ntemperature = 45.63\\nhumidity = 0.61\\npressure = 1003.29\\n\\n\\nFor February\\nday 28\\ntemperature = 35.65\\nhumidity = 0.43\\npressure = 1015.84\\n\\n\\nFor February\\nday 29\\ntemperature = 36.27\\nhumidity = 0.66\\npressure = 1005.08\\n\\n\\nFor January\\nday 1\\ntemperature = 35.73\\nhumidity = 0.63\\npressure = 1014.74\\n\\n\\nFor January\\nday 2\\ntemperature = 31.69\\nhumidity = 0.58\\npressure = 1014.51\\n\\n\\nFor January\\nday 3\\ntemperature = 33.27\\nhumidity = 0.61\\npressure = 1009.63\\n\\n\\nFor January\\nday 4\\ntemperature = 22.3\\nhumidity = 0.6\\npressure = 1016.43\\n\\n\\nFor January\\nday 5\\ntemperature = 11.95\\nhumidity = 0.54\\npressure = 1034.09\\n\\n\\nFor January\\nday 6\\ntemperature = 19.98\\nhumidity = 0.57\\npressure = 1032.54\\n\\n\\nFor January\\nday 7\\ntemperature = 23.33\\nhumidity = 0.62\\npressure = 1026.29\\n\\n\\nFor January\\nday 8\\ntemperature = 29.49\\nhumidity = 0.72\\npressure = 1024.38\\n\\n\\nFor January\\nday 9\\ntemperature = 37.8\\nhumidity = 0.8\\npressure = 1022.69\\n\\n\\nFor January\\nday 10\\ntemperature = 45.37\\nhumidity = 0.84\\npressure = 1001.5\\n\\n\\nFor January\\nday 11\\ntemperature = 26.39\\nhumidity = 0.46\\npressure = 1012.06\\n\\n\\nFor January\\nday 12\\ntemperature = 25.71\\nhumidity = 0.68\\npressure = 1008.62\\n\\n\\nFor January\\nday 13\\ntemperature = 20.27\\nhumidity = 0.55\\npressure = 1011.44\\n\\n\\nFor January\\nday 14\\ntemperature = 24.01\\nhumidity = 0.66\\npressure = 1013.31\\n\\n\\nFor January\\nday 15\\ntemperature = 34.77\\nhumidity = 0.74\\npressure = 1007.79\\n\\n\\nFor January\\nday 16\\ntemperature = 35.91\\nhumidity = 0.78\\npressure = 1003.2\\n\\n\\nFor January\\nday 17\\ntemperature = 28.4\\nhumidity = 0.65\\npressure = 1006.53\\n\\n\\nFor January\\nday 18\\ntemperature = 18.4\\nhumidity = 0.5\\npressure = 1008.52\\n\\n\\nFor January\\nday 19\\ntemperature = 20.44\\nhumidity = 0.53\\npressure = 1015.34\\n\\n\\nFor January\\nday 20\\ntemperature = 23.97\\nhumidity = 0.54\\npressure = 1018.52\\n\\n\\nFor January\\nday 21\\ntemperature = 21.93\\nhumidity = 0.49\\npressure = 1022.02\\n\\n\\nFor January\\nday 22\\ntemperature = 23.75\\nhumidity = 0.5\\npressure = 1019.66\\n\\n\\nFor January\\nday 23\\ntemperature = 22.5\\nhumidity = 0.52\\npressure = 1010.26\\n\\n\\nFor January\\nday 24\\ntemperature = 26.89\\nhumidity = 0.51\\npressure = 1019.84\\n\\n\\nFor January\\nday 25\\ntemperature = 32.18\\nhumidity = 0.67\\npressure = 1020.4\\n\\n\\nFor January\\nday 26\\ntemperature = 40.38\\nhumidity = 0.6\\npressure = 1013.03\\n\\n\\nFor January\\nday 27\\ntemperature = 28.82\\nhumidity = 0.63\\npressure = 1016.3\\n\\n\\nFor January\\nday 28\\ntemperature = 32.59\\nhumidity = 0.71\\npressure = 1001.05\\n\\n\\nFor January\\nday 29\\ntemperature = 29.68\\nhumidity = 0.62\\npressure = 1011.62\\n\\n\\nFor January\\nday 30\\ntemperature = 39.69\\nhumidity = 0.52\\npressure = 1012.27\\n\\n\\nFor January\\nday 31\\ntemperature = 44.27\\nhumidity = 0.64\\npressure = 1008.2\\n\\n\\nFor July\\nday 1\\ntemperature = 75.3\\nhumidity = 0.8\\npressure = 1007.9\\n\\n\\nFor July\\nday 2\\ntemperature = 71.37\\nhumidity = 0.77\\npressure = 1010.2\\n\\n\\nFor July\\nday 3\\ntemperature = 62.75\\nhumidity = 0.86\\npressure = 1011.06\\n\\n\\nFor July\\nday 4\\ntemperature = 65.71\\nhumidity = 0.85\\npressure = 1012.23\\n\\n\\nFor July\\nday 5\\ntemperature = 65.76\\nhumidity = 0.72\\npressure = 1018.64\\n\\n\\nFor July\\nday 6\\ntemperature = 73.2\\nhumidity = 0.65\\npressure = 1018.02\\n\\n\\nFor July\\nday 7\\ntemperature = 77.87\\nhumidity = 0.66\\npressure = 1015.21\\n\\n\\nFor July\\nday 8\\ntemperature = 76.31\\nhumidity = 0.83\\npressure = 1009.79\\n\\n\\nFor July\\nday 9\\ntemperature = 77.1\\nhumidity = 0.67\\npressure = 1012.61\\n\\n\\nFor July\\nday 10\\ntemperature = 76.4\\nhumidity = 0.66\\npressure = 1017.86\\n\\n\\nFor July\\nday 11\\ntemperature = 76.97\\nhumidity = 0.66\\npressure = 1017.71\\n\\n\\nFor July\\nday 12\\ntemperature = 74.41\\nhumidity = 0.64\\npressure = 1015.77\\n\\n\\nFor July\\nday 13\\ntemperature = 67.02\\nhumidity = 0.58\\npressure = 1021.53\\n\\n\\nFor July\\nday 14\\ntemperature = 71.07\\nhumidity = 0.6\\npressure = 1020.33\\n\\n\\nFor July\\nday 15\\ntemperature = 79.43\\nhumidity = 0.6\\npressure = 1012.92\\n\\n\\nFor July\\nday 16\\ntemperature = 80.26\\nhumidity = 0.6\\npressure = 1009.33\\n\\n\\nFor July\\nday 17\\ntemperature = 74.55\\nhumidity = 0.61\\npressure = 1014.47\\n\\n\\nFor July\\nday 18\\ntemperature = 76.4\\nhumidity = 0.68\\npressure = 1012.35\\n\\n\\nFor July\\nday 19\\ntemperature = 77.83\\nhumidity = 0.63\\npressure = 1010.76\\n\\n\\nFor July\\nday 20\\ntemperature = 76.45\\nhumidity = 0.6\\npressure = 1012.88\\n\\n\\nFor July\\nday 21\\ntemperature = 77.96\\nhumidity = 0.63\\npressure = 1011.83\\n\\n\\nFor July\\nday 22\\ntemperature = 74.29\\nhumidity = 0.78\\npressure = 1011.93\\n\\n\\nFor July\\nday 23\\ntemperature = 73.21\\nhumidity = 0.74\\npressure = 1016.91\\n\\n\\nFor July\\nday 24\\ntemperature = 69.1\\nhumidity = 0.86\\npressure = 1018.58\\n\\n\\nFor July\\nday 25\\ntemperature = 69.1\\nhumidity = 0.82\\npressure = 1018.87\\n\\n\\nFor July\\nday 26\\ntemperature = 65.22\\nhumidity = 0.81\\npressure = 1021.17\\n\\n\\nFor July\\nday 27\\ntemperature = 68.7\\nhumidity = 0.67\\npressure = 1021.35\\n\\n\\nFor July\\nday 28\\ntemperature = 71.76\\nhumidity = 0.64\\npressure = 1018.32\\n\\n\\nFor July\\nday 29\\ntemperature = 76.5\\nhumidity = 0.67\\npressure = 1009.5\\n\\n\\nFor July\\nday 30\\ntemperature = 74.16\\nhumidity = 0.68\\npressure = 1007.92\\n\\n\\nFor July\\nday 31\\ntemperature = 72.38\\nhumidity = 0.61\\npressure = 1014.83\\n\\n\\nFor June\\nday 1\\ntemperature = 70.07\\nhumidity = 0.67\\npressure = 1002.64\\n\\n\\nFor June\\nday 2\\ntemperature = 67.39\\nhumidity = 0.69\\npressure = 998.89\\n\\n\\nFor June\\nday 3\\ntemperature = 59.22\\nhumidity = 0.61\\npressure = 1001.9\\n\\n\\nFor June\\nday 4\\ntemperature = 57.82\\nhumidity = 0.51\\npressure = 1007.83\\n\\n\\nFor June\\nday 5\\ntemperature = 60.04\\nhumidity = 0.53\\npressure = 1014.64\\n\\n\\nFor June\\nday 6\\ntemperature = 59.26\\nhumidity = 0.83\\npressure = 1008.79\\n\\n\\nFor June\\nday 7\\ntemperature = 60.79\\nhumidity = 0.59\\npressure = 1004.92\\n\\n\\nFor June\\nday 8\\ntemperature = 59.52\\nhumidity = 0.64\\npressure = 1008.67\\n\\n\\nFor June\\nday 9\\ntemperature = 64.11\\nhumidity = 0.58\\npressure = 1012.53\\n\\n\\nFor June\\nday 10\\ntemperature = 69.82\\nhumidity = 0.58\\npressure = 1010.7\\n\\n\\nFor June\\nday 11\\ntemperature = 70.7\\nhumidity = 0.55\\npressure = 1008.93\\n\\n\\nFor June\\nday 12\\ntemperature = 66.73\\nhumidity = 0.55\\npressure = 1018.09\\n\\n\\nFor June\\nday 13\\ntemperature = 70.04\\nhumidity = 0.52\\npressure = 1024.81\\n\\n\\nFor June\\nday 14\\ntemperature = 70.82\\nhumidity = 0.63\\npressure = 1023.14\\n\\n\\nFor June\\nday 15\\ntemperature = 74.4\\nhumidity = 0.61\\npressure = 1010.79\\n\\n\\nFor June\\nday 16\\ntemperature = 66.27\\nhumidity = 0.56\\npressure = 1008.83\\n\\n\\nFor June\\nday 17\\ntemperature = 65.26\\nhumidity = 0.56\\npressure = 1011.8\\n\\n\\nFor June\\nday 18\\ntemperature = 68.52\\nhumidity = 0.57\\npressure = 1014.31\\n\\n\\nFor June\\nday 19\\ntemperature = 69.43\\nhumidity = 0.57\\npressure = 1020.73\\n\\n\\nFor June\\nday 20\\ntemperature = 72.06\\nhumidity = 0.55\\npressure = 1021.97\\n\\n\\nFor June\\nday 21\\ntemperature = 72.71\\nhumidity = 0.58\\npressure = 1017.86\\n\\n\\nFor June\\nday 22\\ntemperature = 71.55\\nhumidity = 0.79\\npressure = 1014.41\\n\\n\\nFor June\\nday 23\\ntemperature = 73.18\\nhumidity = 0.72\\npressure = 1011.25\\n\\n\\nFor June\\nday 24\\ntemperature = 72.41\\nhumidity = 0.57\\npressure = 1014.32\\n\\n\\nFor June\\nday 25\\ntemperature = 70.08\\nhumidity = 0.72\\npressure = 1014.47\\n\\n\\nFor June\\nday 26\\ntemperature = 68.18\\nhumidity = 0.61\\npressure = 1012.52\\n\\n\\nFor June\\nday 27\\ntemperature = 67.62\\nhumidity = 0.56\\npressure = 1017.05\\n\\n\\nFor June\\nday 28\\ntemperature = 71.41\\nhumidity = 0.56\\npressure = 1015.87\\n\\n\\nFor June\\nday 29\\ntemperature = 74.37\\nhumidity = 0.72\\npressure = 1008.54\\n\\n\\nFor June\\nday 30\\ntemperature = 77.6\\nhumidity = 0.64\\npressure = 1009.93\\n\\n\\nFor March\\nday 1\\ntemperature = 23.97\\nhumidity = 0.44\\npressure = 1021.05\\n\\n\\nFor March\\nday 2\\ntemperature = 26.71\\nhumidity = 0.58\\npressure = 1021.59\\n\\n\\nFor March\\nday 3\\ntemperature = 27.95\\nhumidity = 0.47\\npressure = 1021.12\\n\\n\\nFor March\\nday 4\\ntemperature = 30.85\\nhumidity = 0.48\\npressure = 1024.52\\n\\n\\nFor March\\nday 5\\ntemperature = 38.23\\nhumidity = 0.61\\npressure = 1019.64\\n\\n\\nFor March\\nday 6\\ntemperature = 45.94\\nhumidity = 0.65\\npressure = 1019.96\\n\\n\\nFor March\\nday 7\\ntemperature = 58.79\\nhumidity = 0.52\\npressure = 1016.18\\n\\n\\nFor March\\nday 8\\ntemperature = 59.45\\nhumidity = 0.74\\npressure = 1012.88\\n\\n\\nFor March\\nday 9\\ntemperature = 47.42\\nhumidity = 0.67\\npressure = 1021.03\\n\\n\\nFor March\\nday 10\\ntemperature = 46.58\\nhumidity = 0.55\\npressure = 1019.31\\n\\n\\nFor March\\nday 11\\ntemperature = 51.94\\nhumidity = 0.33\\npressure = 1018.65\\n\\n\\nFor March\\nday 12\\ntemperature = 39.05\\nhumidity = 0.82\\npressure = 1019.65\\n\\n\\nFor March\\nday 13\\ntemperature = 44.5\\nhumidity = 0.83\\npressure = 1010.22\\n\\n\\nFor March\\nday 14\\ntemperature = 50.09\\nhumidity = 0.76\\npressure = 1009.94\\n\\n\\nFor March\\nday 15\\ntemperature = 45.67\\nhumidity = 0.69\\npressure = 1006.64\\n\\n\\nFor March\\nday 16\\ntemperature = 37.25\\nhumidity = 0.53\\npressure = 1012.54\\n\\n\\nFor March\\nday 17\\ntemperature = 31.6\\nhumidity = 0.39\\npressure = 1020.62\\n\\n\\nFor March\\nday 18\\ntemperature = 33.6\\nhumidity = 0.59\\npressure = 1014.54\\n\\n\\nFor March\\nday 19\\ntemperature = 36.65\\nhumidity = 0.45\\npressure = 1012.9\\n\\n\\nFor March\\nday 20\\ntemperature = 46.45\\nhumidity = 0.49\\npressure = 1014.1\\n\\n\\nFor March\\nday 21\\ntemperature = 46.61\\nhumidity = 0.53\\npressure = 1018.95\\n\\n\\nFor March\\nday 22\\ntemperature = 42.05\\nhumidity = 0.82\\npressure = 1011.32\\n\\n\\nFor March\\nday 23\\ntemperature = 41.82\\nhumidity = 0.65\\npressure = 1019.94\\n\\n\\nFor March\\nday 24\\ntemperature = 41.24\\nhumidity = 0.71\\npressure = 1028.4\\n\\n\\nFor March\\nday 25\\ntemperature = 42.28\\nhumidity = 0.78\\npressure = 1013.5\\n\\n\\nFor March\\nday 26\\ntemperature = 42.85\\nhumidity = 0.6\\npressure = 1004.94\\n\\n\\nFor March\\nday 27\\ntemperature = 40.1\\nhumidity = 0.43\\npressure = 1023.27\\n\\n\\nFor March\\nday 28\\ntemperature = 53.78\\nhumidity = 0.53\\npressure = 1014.76\\n\\n\\nFor March\\nday 29\\ntemperature = 62.67\\nhumidity = 0.77\\npressure = 1002.33\\n\\n\\nFor March\\nday 30\\ntemperature = 46.81\\nhumidity = 0.72\\npressure = 999.84\\n\\n\\nFor March\\nday 31\\ntemperature = 32.22\\nhumidity = 0.63\\npressure = 1001.43\\n\\n\\nFor May\\nday 1\\ntemperature = 48.2\\nhumidity = 0.78\\npressure = 1006.89\\n\\n\\nFor May\\nday 2\\ntemperature = 52.77\\nhumidity = 0.78\\npressure = 1008.49\\n\\n\\nFor May\\nday 3\\ntemperature = 51.22\\nhumidity = 0.88\\npressure = 1008.51\\n\\n\\nFor May\\nday 4\\ntemperature = 52.19\\nhumidity = 0.65\\npressure = 1005.45\\n\\n\\nFor May\\nday 5\\ntemperature = 51.88\\nhumidity = 0.46\\npressure = 1015.94\\n\\n\\nFor May\\nday 6\\ntemperature = 52.85\\nhumidity = 0.48\\npressure = 1021.25\\n\\n\\nFor May\\nday 7\\ntemperature = 58.94\\nhumidity = 0.46\\npressure = 1020.31\\n\\n\\nFor May\\nday 8\\ntemperature = 63.58\\nhumidity = 0.45\\npressure = 1017.41\\n\\n\\nFor May\\nday 9\\ntemperature = 59.54\\nhumidity = 0.83\\npressure = 1008.99\\n\\n\\nFor May\\nday 10\\ntemperature = 59.51\\nhumidity = 0.63\\npressure = 1003.48\\n\\n\\nFor May\\nday 11\\ntemperature = 45.91\\nhumidity = 0.48\\npressure = 1008.77\\n\\n\\nFor May\\nday 12\\ntemperature = 49.88\\nhumidity = 0.49\\npressure = 1016.82\\n\\n\\nFor May\\nday 13\\ntemperature = 56.58\\nhumidity = 0.52\\npressure = 1019.58\\n\\n\\nFor May\\nday 14\\ntemperature = 58.54\\nhumidity = 0.53\\npressure = 1018.94\\n\\n\\nFor May\\nday 15\\ntemperature = 55.51\\nhumidity = 0.7\\npressure = 1020.55\\n\\n\\nFor May\\nday 16\\ntemperature = 60.16\\nhumidity = 0.58\\npressure = 1021.54\\n\\n\\nFor May\\nday 17\\ntemperature = 59.85\\nhumidity = 0.59\\npressure = 1012.72\\n\\n\\nFor May\\nday 18\\ntemperature = 61.48\\nhumidity = 0.66\\npressure = 1011.79\\n\\n\\nFor May\\nday 19\\ntemperature = 64.6\\nhumidity = 0.65\\npressure = 1011.83\\n\\n\\nFor May\\nday 20\\ntemperature = 63.46\\nhumidity = 0.74\\npressure = 1015.02\\n\\n\\nFor May\\nday 21\\ntemperature = 72.48\\nhumidity = 0.57\\npressure = 1017.33\\n\\n\\nFor May\\nday 22\\ntemperature = 74.58\\nhumidity = 0.59\\npressure = 1017.15\\n\\n\\nFor May\\nday 23\\ntemperature = 75.99\\nhumidity = 0.68\\npressure = 1017.59\\n\\n\\nFor May\\nday 24\\ntemperature = 74.59\\nhumidity = 0.71\\npressure = 1019.23\\n\\n\\nFor May\\nday 25\\ntemperature = 69.03\\nhumidity = 0.81\\npressure = 1015.48\\n\\n\\nFor May\\nday 26\\ntemperature = 73.33\\nhumidity = 0.63\\npressure = 1013.07\\n\\n\\nFor May\\nday 27\\ntemperature = 68.68\\nhumidity = 0.59\\npressure = 1018.26\\n\\n\\nFor May\\nday 28\\ntemperature = 67.41\\nhumidity = 0.65\\npressure = 1020.39\\n\\n\\nFor May\\nday 29\\ntemperature = 64.82\\nhumidity = 0.8\\npressure = 1017.27\\n\\n\\nFor May\\nday 30\\ntemperature = 71.1\\nhumidity = 0.7\\npressure = 1014.72\\n\\n\\nFor May\\nday 31\\ntemperature = 64.87\\nhumidity = 0.89\\npressure = 1008.04\\n\\n\\nFor November\\nday 1\\ntemperature = 41.23\\nhumidity = 0.58\\npressure = 1015.85\\n\\n\\nFor November\\nday 2\\ntemperature = 45.6\\nhumidity = 0.55\\npressure = 1015.29\\n\\n\\nFor November\\nday 3\\ntemperature = 47.69\\nhumidity = 0.9\\npressure = 1006.24\\n\\n\\nFor November\\nday 4\\ntemperature = 44.4\\nhumidity = 0.78\\npressure = 1012.03\\n\\n\\nFor November\\nday 5\\ntemperature = 45.72\\nhumidity = 0.72\\npressure = 1018.7\\n\\n\\nFor November\\nday 6\\ntemperature = 43.72\\nhumidity = 0.77\\npressure = 1014.74\\n\\n\\nFor November\\nday 7\\ntemperature = 39.57\\nhumidity = 0.83\\npressure = 997.1\\n\\n\\nFor November\\nday 8\\ntemperature = 30.93\\nhumidity = 0.66\\npressure = 999.36\\n\\n\\nFor November\\nday 9\\ntemperature = 32.35\\nhumidity = 0.58\\npressure = 1012.9\\n\\n\\nFor November\\nday 10\\ntemperature = 31.7\\nhumidity = 0.62\\npressure = 1023.88\\n\\n\\nFor November\\nday 11\\ntemperature = 34.57\\nhumidity = 0.78\\npressure = 1026.0\\n\\n\\nFor November\\nday 12\\ntemperature = 39.34\\nhumidity = 0.94\\npressure = 1023.18\\n\\n\\nFor November\\nday 13\\ntemperature = 37.28\\nhumidity = 0.9\\npressure = 1018.46\\n\\n\\nFor November\\nday 14\\ntemperature = 33.41\\nhumidity = 0.81\\npressure = 1018.17\\n\\n\\nFor November\\nday 15\\ntemperature = 33.55\\nhumidity = 0.78\\npressure = 1021.39\\n\\n\\nFor November\\nday 16\\ntemperature = 45.1\\nhumidity = 0.94\\npressure = 1013.9\\n\\n\\nFor November\\nday 17\\ntemperature = 46.34\\nhumidity = 0.95\\npressure = 1007.84\\n\\n\\nFor November\\nday 18\\ntemperature = 42.02\\nhumidity = 0.69\\npressure = 1005.39\\n\\n\\nFor November\\nday 19\\ntemperature = 41.15\\nhumidity = 0.6\\npressure = 1010.05\\n\\n\\nFor November\\nday 20\\ntemperature = 35.42\\nhumidity = 0.58\\npressure = 1019.4\\n\\n\\nFor November\\nday 21\\ntemperature = 30.6\\nhumidity = 0.76\\npressure = 1019.77\\n\\n\\nFor November\\nday 22\\ntemperature = 34.52\\nhumidity = 0.81\\npressure = 1017.73\\n\\n\\nFor November\\nday 23\\ntemperature = 36.12\\nhumidity = 0.85\\npressure = 1014.89\\n\\n\\nFor November\\nday 24\\ntemperature = 33.44\\nhumidity = 0.88\\npressure = 1013.91\\n\\n\\nFor November\\nday 25\\ntemperature = 31.01\\nhumidity = 0.54\\npressure = 1014.73\\n\\n\\nFor November\\nday 26\\ntemperature = 22.89\\nhumidity = 0.54\\npressure = 1025.72\\n\\n\\nFor November\\nday 27\\ntemperature = 20.57\\nhumidity = 0.73\\npressure = 1031.29\\n\\n\\nFor November\\nday 28\\ntemperature = 32.91\\nhumidity = 0.89\\npressure = 1013.68\\n\\n\\nFor November\\nday 29\\ntemperature = 34.34\\nhumidity = 0.63\\npressure = 1017.6\\n\\n\\nFor November\\nday 30\\ntemperature = 29.03\\nhumidity = 0.67\\npressure = 1013.42\\n\\n\\nFor October\\nday 1\\ntemperature = 50.92\\nhumidity = 0.77\\npressure = 1027.58\\n\\n\\nFor October\\nday 2\\ntemperature = 55.69\\nhumidity = 0.81\\npressure = 1019.0\\n\\n\\nFor October\\nday 3\\ntemperature = 46.89\\nhumidity = 0.65\\npressure = 1026.4\\n\\n\\nFor October\\nday 4\\ntemperature = 43.99\\nhumidity = 0.73\\npressure = 1029.21\\n\\n\\nFor October\\nday 5\\ntemperature = 55.51\\nhumidity = 0.79\\npressure = 1018.39\\n\\n\\nFor October\\nday 6\\ntemperature = 63.77\\nhumidity = 0.82\\npressure = 1012.51\\n\\n\\nFor October\\nday 7\\ntemperature = 67.95\\nhumidity = 0.77\\npressure = 1010.5\\n\\n\\nFor October\\nday 8\\ntemperature = 61.36\\nhumidity = 0.73\\npressure = 1017.65\\n\\n\\nFor October\\nday 9\\ntemperature = 59.4\\nhumidity = 0.78\\npressure = 1018.2\\n\\n\\nFor October\\nday 10\\ntemperature = 61.84\\nhumidity = 0.91\\npressure = 999.77\\n\\n\\nFor October\\nday 11\\ntemperature = 43.87\\nhumidity = 0.77\\npressure = 998.07\\n\\n\\nFor October\\nday 12\\ntemperature = 50.65\\nhumidity = 0.57\\npressure = 1008.34\\n\\n\\nFor October\\nday 13\\ntemperature = 44.36\\nhumidity = 0.55\\npressure = 1016.79\\n\\n\\nFor October\\nday 14\\ntemperature = 39.09\\nhumidity = 0.54\\npressure = 1025.83\\n\\n\\nFor October\\nday 15\\ntemperature = 33.41\\nhumidity = 0.7\\npressure = 1030.99\\n\\n\\nFor October\\nday 16\\ntemperature = 39.52\\nhumidity = 0.86\\npressure = 1019.02\\n\\n\\nFor October\\nday 17\\ntemperature = 42.96\\nhumidity = 0.75\\npressure = 1018.44\\n\\n\\nFor October\\nday 18\\ntemperature = 53.67\\nhumidity = 0.76\\npressure = 1011.11\\n\\n\\nFor October\\nday 19\\ntemperature = 44.85\\nhumidity = 0.69\\npressure = 1018.95\\n\\n\\nFor October\\nday 20\\ntemperature = 38.49\\nhumidity = 0.77\\npressure = 1027.51\\n\\n\\nFor October\\nday 21\\ntemperature = 53.85\\nhumidity = 0.77\\npressure = 1022.49\\n\\n\\nFor October\\nday 22\\ntemperature = 54.67\\nhumidity = 0.85\\npressure = 1013.56\\n\\n\\nFor October\\nday 23\\ntemperature = 47.23\\nhumidity = 0.62\\npressure = 1019.23\\n\\n\\nFor October\\nday 24\\ntemperature = 43.01\\nhumidity = 0.75\\npressure = 1020.5\\n\\n\\nFor October\\nday 25\\ntemperature = 42.39\\nhumidity = 0.68\\npressure = 1024.94\\n\\n\\nFor October\\nday 26\\ntemperature = 36.2\\nhumidity = 0.69\\npressure = 1029.12\\n\\n\\nFor October\\nday 27\\ntemperature = 42.23\\nhumidity = 0.7\\npressure = 1016.73\\n\\n\\nFor October\\nday 28\\ntemperature = 43.41\\nhumidity = 0.82\\npressure = 1012.32\\n\\n\\nFor October\\nday 29\\ntemperature = 44.31\\nhumidity = 0.57\\npressure = 1007.15\\n\\n\\nFor October\\nday 30\\ntemperature = 40.84\\nhumidity = 0.48\\npressure = 1015.35\\n\\n\\nFor October\\nday 31\\ntemperature = 39.33\\nhumidity = 0.53\\npressure = 1020.45\\n\\n\\nFor September\\nday 1\\ntemperature = 76.94\\nhumidity = 0.77\\npressure = 1013.86\\n\\n\\nFor September\\nday 2\\ntemperature = 63.32\\nhumidity = 0.67\\npressure = 1018.64\\n\\n\\nFor September\\nday 3\\ntemperature = 61.88\\nhumidity = 0.69\\npressure = 1023.19\\n\\n\\nFor September\\nday 4\\ntemperature = 70.76\\nhumidity = 0.67\\npressure = 1018.6\\n\\n\\nFor September\\nday 5\\ntemperature = 64.7\\nhumidity = 0.65\\npressure = 1021.18\\n\\n\\nFor September\\nday 6\\ntemperature = 57.72\\nhumidity = 0.69\\npressure = 1026.01\\n\\n\\nFor September\\nday 7\\ntemperature = 61.54\\nhumidity = 0.69\\npressure = 1024.21\\n\\n\\nFor September\\nday 8\\ntemperature = 70.4\\nhumidity = 0.78\\npressure = 1017.76\\n\\n\\nFor September\\nday 9\\ntemperature = 71.56\\nhumidity = 0.9\\npressure = 1016.93\\n\\n\\nFor September\\nday 10\\ntemperature = 70.5\\nhumidity = 0.85\\npressure = 1019.06\\n\\n\\nFor September\\nday 11\\ntemperature = 67.75\\nhumidity = 0.75\\npressure = 1020.94\\n\\n\\nFor September\\nday 12\\ntemperature = 65.85\\nhumidity = 0.7\\npressure = 1021.28\\n\\n\\nFor September\\nday 13\\ntemperature = 64.59\\nhumidity = 0.74\\npressure = 1016.52\\n\\n\\nFor September\\nday 14\\ntemperature = 56.11\\nhumidity = 0.68\\npressure = 1019.88\\n\\n\\nFor September\\nday 15\\ntemperature = 50.03\\nhumidity = 0.67\\npressure = 1021.62\\n\\n\\nFor September\\nday 16\\ntemperature = 54.6\\nhumidity = 0.68\\npressure = 1019.9\\n\\n\\nFor September\\nday 17\\ntemperature = 60.7\\nhumidity = 0.83\\npressure = 1013.9\\n\\n\\nFor September\\nday 18\\ntemperature = 56.77\\nhumidity = 0.78\\npressure = 1024.49\\n\\n\\nFor September\\nday 19\\ntemperature = 56.5\\nhumidity = 0.67\\npressure = 1031.02\\n\\n\\nFor September\\nday 20\\ntemperature = 53.28\\nhumidity = 0.83\\npressure = 1028.32\\n\\n\\nFor September\\nday 21\\ntemperature = 53.1\\nhumidity = 0.9\\npressure = 1023.18\\n\\n\\nFor September\\nday 22\\ntemperature = 57.21\\nhumidity = 0.9\\npressure = 1017.29\\n\\n\\nFor September\\nday 23\\ntemperature = 61.46\\nhumidity = 0.8\\npressure = 1021.31\\n\\n\\nFor September\\nday 24\\ntemperature = 53.13\\nhumidity = 0.81\\npressure = 1028.28\\n\\n\\nFor September\\nday 25\\ntemperature = 53.33\\nhumidity = 0.77\\npressure = 1026.46\\n\\n\\nFor September\\nday 26\\ntemperature = 56.28\\nhumidity = 0.76\\npressure = 1026.04\\n\\n\\nFor September\\nday 27\\ntemperature = 56.24\\nhumidity = 0.82\\npressure = 1021.41\\n\\n\\nFor September\\nday 28\\ntemperature = 57.25\\nhumidity = 0.87\\npressure = 1016.8\\n\\n\\nFor September\\nday 29\\ntemperature = 49.59\\nhumidity = 0.57\\npressure = 1021.08\\n\\n\\nFor September\\nday 30\\ntemperature = 45.65\\nhumidity = 0.68\\npressure = 1030.32\\n\\n\\n'"
            ],
            "application/vnd.google.colaboratory.intrinsic+json": {
              "type": "string"
            }
          },
          "metadata": {},
          "execution_count": 15
        }
      ],
      "source": [
        "text_content"
      ]
    },
    {
      "cell_type": "code",
      "execution_count": 16,
      "metadata": {
        "id": "68l6ziKnXrz3"
      },
      "outputs": [],
      "source": [
        "docs =  [Document(page_content=text_content, metadata={\"source\": \"local\"})]"
      ]
    },
    {
      "cell_type": "code",
      "execution_count": 17,
      "metadata": {
        "id": "82f8eombXun_"
      },
      "outputs": [],
      "source": [
        "from langchain_google_genai import GoogleGenerativeAIEmbeddings\n",
        "\n",
        "# If there is no environment variable set for the API key, you can pass the API\n",
        "# key to the parameter `google_api_key` of the `GoogleGenerativeAIEmbeddings`\n",
        "# function: `google_api_key = \"key\"`.\n",
        "\n",
        "gemini_embeddings = GoogleGenerativeAIEmbeddings(model=\"models/embedding-001\")"
      ]
    },
    {
      "cell_type": "code",
      "execution_count": 18,
      "metadata": {
        "id": "iP5Cz3EdXzQm"
      },
      "outputs": [],
      "source": [
        "\n",
        "vectorstore = Chroma.from_documents(\n",
        "                     documents=docs,                 # Data\n",
        "                     embedding=gemini_embeddings,    # Embedding model\n",
        "                     persist_directory=\"./chroma_db\" # Directory to save data\n",
        "                     )"
      ]
    },
    {
      "cell_type": "code",
      "execution_count": 19,
      "metadata": {
        "id": "UGMAMD4VYHYY"
      },
      "outputs": [],
      "source": [
        "retriever = vectorstore.as_retriever(search_kwargs={\"k\": 1})"
      ]
    },
    {
      "cell_type": "code",
      "execution_count": 20,
      "metadata": {
        "id": "adZdklo_fLuB"
      },
      "outputs": [],
      "source": [
        "from langchain_core.prompts import PromptTemplate\n",
        "llm_text = ChatGoogleGenerativeAI(model=\"gemini-pro\")\n",
        "template = \"\"\"\n",
        "```\n",
        "{context}\n",
        "\n",
        "Each line of the data contains month name, day number of the month, mean temperature (in Fahrenheit), pressure, and humidity for the day.\n",
        "```\n",
        "{question}\n",
        "Look at the graph, and provide 3-4 lines reasoning for the question, using weather data given in the context.\n",
        "\"\"\"\n",
        "prompt = PromptTemplate.from_template(template)\n",
        "rag_chain = (\n",
        "  {\"context\": retriever, \"question\": RunnablePassthrough()}\n",
        "  | prompt\n",
        "  | llm_text\n",
        "  | StrOutputParser()\n",
        ")"
      ]
    },
    {
      "cell_type": "code",
      "execution_count": 21,
      "metadata": {
        "id": "1hNBdrKndSt4"
      },
      "outputs": [],
      "source": [
        "from langchain_core.messages import HumanMessage\n",
        "llm = ChatGoogleGenerativeAI(model=\"gemini-pro-vision\")\n",
        "image_url = \"https://imgtr.ee/images/2024/05/02/41a3d1e31e7476604b0a7ddd9845853c.png\"\n",
        "#"
      ]
    },
    {
      "cell_type": "code",
      "execution_count": 22,
      "metadata": {
        "id": "OvlkQCqeeemP"
      },
      "outputs": [],
      "source": [
        "llm_vision =  ChatGoogleGenerativeAI(model=\"gemini-pro-vision\")\n",
        "full_chain = (\n",
        "  RunnablePassthrough() | llm | StrOutputParser() | rag_chain\n",
        ")"
      ]
    },
    {
      "cell_type": "code",
      "execution_count": 23,
      "metadata": {
        "id": "384GTjrfe4Dn"
      },
      "outputs": [],
      "source": [
        "message = HumanMessage(\n",
        "  content=[\n",
        "    {\n",
        "      \"type\": \"text\",\n",
        "      \"text\": \"Give information about the image\",\n",
        "    }, # You can optionally provide text parts\n",
        "    {\"type\": \"image_url\", \"image_url\": image_url},\n",
        "  ])"
      ]
    },
    {
      "cell_type": "code",
      "execution_count": 24,
      "metadata": {
        "id": "cIRl-eZVelpR"
      },
      "outputs": [],
      "source": [
        "result = full_chain.invoke([message])"
      ]
    },
    {
      "cell_type": "code",
      "execution_count": null,
      "metadata": {
        "colab": {
          "base_uri": "https://localhost:8080/",
          "height": 104
        },
        "id": "7BDE_PGen31_",
        "outputId": "3e490145-6dc2-488d-e2b6-2179e78b249c"
      },
      "outputs": [
        {
          "data": {
            "application/vnd.google.colaboratory.intrinsic+json": {
              "type": "string"
            },
            "text/plain": [
              "'The graph shows the time series of the power usage of a fridge. The x-axis is the time in months, and the y-axis is the power usage in kWh. The power usage is the highest in the summer months, from May to August, and the lowest in the winter months, from December to February. This is because the fridge has to work harder to keep the food cold in the summer months when the outside temperature is high. The power usage is also high in the month of March, which is likely due to the fact that the fridge is being used more often during this time as people are preparing for Easter.'"
            ]
          },
          "execution_count": 27,
          "metadata": {},
          "output_type": "execute_result"
        }
      ],
      "source": [
        "result"
      ]
    },
    {
      "cell_type": "code",
      "execution_count": null,
      "metadata": {
        "id": "TBVa5zICMMPH"
      },
      "outputs": [],
      "source": [
        "#Experiment 0\n",
        "llm = ChatGoogleGenerativeAI(model=\"gemini-pro-vision\")\n",
        "message = HumanMessage(\n",
        "    content=[\n",
        "        {\n",
        "            \"type\": \"text\",\n",
        "            \"text\": \"Give information about the image\",\n",
        "        },  # You can optionally provide text parts\n",
        "        {\"type\": \"image_url\", \"image_url\": image_url},\n",
        "    ]\n",
        ")\n",
        "full_chain.invoke([message])"
      ]
    },
    {
      "cell_type": "code",
      "source": [],
      "metadata": {
        "id": "wXUn8lAgl2ti"
      },
      "execution_count": null,
      "outputs": []
    },
    {
      "cell_type": "code",
      "source": [
        "#Experiment 1\n",
        "llm = ChatGoogleGenerativeAI(model=\"gemini-pro-vision\")\n",
        "user_question = \"Why is energy usage high in Month of June, July and August\"\n",
        "message = HumanMessage(\n",
        "    content=[\n",
        "        {\n",
        "        \"type\": \"text\",\n",
        "        \"text\": f\"This image is the time series plot\" \\\n",
        "        f\"{user_question} in the image.\",\n",
        "        }, # You can optionally provide text parts\n",
        "        {\"type\": \"image_url\", \"image_url\": image_url},\n",
        "    ]\n",
        ")\n",
        "full_chain.invoke([message])"
      ],
      "metadata": {
        "colab": {
          "base_uri": "https://localhost:8080/",
          "height": 139
        },
        "id": "kAbnMlzEkYWY",
        "outputId": "2449e389-ae42-4573-cde7-f5fc6c31ab9e"
      },
      "execution_count": 53,
      "outputs": [
        {
          "output_type": "execute_result",
          "data": {
            "text/plain": [
              "'1. The energy usage is high in June, July, and August because these are the summer months when the weather is hotter. During these months, people tend to use their air conditioners more often, which can increase their energy usage.\\n2. Additionally, people may also be spending more time at home during these months, which can also lead to increased energy usage.\\n3. The graph shows that the average temperature in June, July, and August is higher than the average temperature in the other months of the year. This suggests that the weather is hotter during these months, which is likely to lead to increased energy usage.\\n4. The graph also shows that the average humidity in June, July, and August is higher than the average humidity in the other months of the year. This suggests that the air is more humid during these months, which can also lead to increased energy usage.'"
            ],
            "application/vnd.google.colaboratory.intrinsic+json": {
              "type": "string"
            }
          },
          "metadata": {},
          "execution_count": 53
        }
      ]
    },
    {
      "cell_type": "code",
      "source": [
        "#Experiment 2\n",
        "llm = ChatGoogleGenerativeAI(model=\"gemini-pro-vision\")\n",
        "user_question = \"Why is energy usage high in Month of June, July and August\"\n",
        "message = HumanMessage(\n",
        "    content=[\n",
        "        {\n",
        "        \"type\": \"text\",\n",
        "        \"text\": f\"This image is the time series plot of fridge energy usage per month\" \\\n",
        "        f\"{user_question} in the image.\",\n",
        "        }, # You can optionally provide text parts\n",
        "        {\"type\": \"image_url\", \"image_url\": image_url},\n",
        "    ]\n",
        ")\n",
        "full_chain.invoke([message])"
      ],
      "metadata": {
        "colab": {
          "base_uri": "https://localhost:8080/",
          "height": 157
        },
        "id": "c-2aekqdl44J",
        "outputId": "b81a9677-861c-4126-91f4-62e141869047"
      },
      "execution_count": 54,
      "outputs": [
        {
          "output_type": "execute_result",
          "data": {
            "text/plain": [
              "'1. The energy usage is high in June, July, and August because these are the summer months when the weather is hotter. During these months, people tend to use their air conditioners more often, which can increase their electricity bills.\\n2. In addition, people may also be more likely to open their refrigerators and freezers more often during the summer months, which can also lead to increased energy usage.\\n3. The weather data given in the context shows that the average temperature in June, July, and August is higher than in other months. This means that people are more likely to use their air conditioners during these months, which can lead to increased energy usage.\\n4. The data also shows that the average humidity in June, July, and August is lower than in other months. This means that the air is drier during these months, which can make people feel hotter and more likely to use their air conditioners.'"
            ],
            "application/vnd.google.colaboratory.intrinsic+json": {
              "type": "string"
            }
          },
          "metadata": {},
          "execution_count": 54
        }
      ]
    },
    {
      "cell_type": "code",
      "source": [
        "#Experiment 3\n",
        "llm = ChatGoogleGenerativeAI(model=\"gemini-pro-vision\")\n",
        "user_question = \"Why is energy usage high in Month of June, July and August\"\n",
        "message = HumanMessage(\n",
        "    content=[\n",
        "        {\n",
        "        \"type\": \"text\",\n",
        "        \"text\": f\"This image is the time series plot of fridge energy usage per month. \" \\\n",
        "        f\"{user_question} in the image. Don't assume any actions about people. The appliance is fridge\",\n",
        "        }, # You can optionally provide text parts\n",
        "        {\"type\": \"image_url\", \"image_url\": image_url},\n",
        "    ]\n",
        ")\n",
        "full_chain.invoke([message])"
      ],
      "metadata": {
        "colab": {
          "base_uri": "https://localhost:8080/",
          "height": 104
        },
        "id": "SNzYqouVmV4y",
        "outputId": "0b1d05e8-ca8d-4383-8c2e-0a492d2e37f4"
      },
      "execution_count": 57,
      "outputs": [
        {
          "output_type": "execute_result",
          "data": {
            "text/plain": [
              "'1. The refrigerator is used more frequently during the summer months, which can lead to increased door openings and warmer air entering the refrigerator.\\n2. The ambient temperature is higher during the summer months, which can make it more difficult for the refrigerator to maintain a cool temperature inside.\\n3. People may store more food and drinks in the refrigerator during the summer months to keep them cool, which can add to the load on the refrigerator and make it work harder.\\n4. The humidity is higher during the summer months, which can make the air inside the refrigerator feel more humid and uncomfortable.'"
            ],
            "application/vnd.google.colaboratory.intrinsic+json": {
              "type": "string"
            }
          },
          "metadata": {},
          "execution_count": 57
        }
      ]
    },
    {
      "cell_type": "code",
      "source": [
        "#Experiment 4\n",
        "llm = ChatGoogleGenerativeAI(model=\"gemini-pro-vision\")\n",
        "user_question = \"Why is energy usage high in Month of June, July and August\"\n",
        "message = HumanMessage(\n",
        "    content=[\n",
        "        {\n",
        "        \"type\": \"text\",\n",
        "        \"text\": f\"This image is the time series plot of fridge energy usage per month. \" \\\n",
        "        f\"{user_question} in the image. Don't assume any actions about people. The time series is not weather time series. The appliance is fridge\",\n",
        "        }, # You can optionally provide text parts\n",
        "        {\"type\": \"image_url\", \"image_url\": image_url},\n",
        "    ]\n",
        ")\n",
        "full_chain.invoke([message])"
      ],
      "metadata": {
        "colab": {
          "base_uri": "https://localhost:8080/",
          "height": 122
        },
        "id": "2k1ys9_spFJa",
        "outputId": "57092fce-454f-415a-9c23-43a32953f895"
      },
      "execution_count": 59,
      "outputs": [
        {
          "output_type": "execute_result",
          "data": {
            "text/plain": [
              "'1. In the summer months (June, July, and August), the average temperature is higher than in the other months. This means that the fridge has to work harder to keep the inside cool, which uses more energy.\\n2. In the winter months (December, January, and February), the average temperature is lower than in the other months. This means that the fridge does not have to work as hard to keep the inside cool, which uses less energy.\\n3. The humidity is also generally lower in the winter months than in the summer months. This means that the fridge does not have to work as hard to remove moisture from the air inside the fridge, which also uses less energy.'"
            ],
            "application/vnd.google.colaboratory.intrinsic+json": {
              "type": "string"
            }
          },
          "metadata": {},
          "execution_count": 59
        }
      ]
    },
    {
      "cell_type": "code",
      "source": [
        "#Experiment 5\n",
        "llm = ChatGoogleGenerativeAI(model=\"gemini-pro-vision\")\n",
        "\n",
        "message = HumanMessage(\n",
        "    content=[\n",
        "        {\n",
        "        \"type\": \"text\",\n",
        "        \"text\": f\"This image is the time series plot of fridge energy usage per month.\" \\\n",
        "        f\"{user_question} in the image. The time series is not weather time series. Don't assume any actions about people, utilize the statistics in the context above, and give the answer in terms of the appliance the question is meant for. THE APPLIANCE IS fridge\",\n",
        "        }, # You can optionally provide text parts\n",
        "        {\"type\": \"image_url\", \"image_url\": image_url},\n",
        "    ]\n",
        ")\n",
        "full_chain.invoke([message])"
      ],
      "metadata": {
        "colab": {
          "base_uri": "https://localhost:8080/",
          "height": 87
        },
        "id": "XGhkwTQEjvSS",
        "outputId": "efa68e9e-f545-4092-b5ca-b2ee0f73b19c"
      },
      "execution_count": 65,
      "outputs": [
        {
          "output_type": "execute_result",
          "data": {
            "text/plain": [
              "'1. The energy usage is high in June, July, and August because these months are typically the hottest months of the year.\\n2. As a result, the fridge has to work harder to keep the food cold, which uses more energy.\\n3. The average temperature in June is 70.07°F, in July it is 75.3°F, and in August it is 71.04°F.\\n4. These are the highest average temperatures of the year, which means that the fridge has to work harder to keep the food cold.'"
            ],
            "application/vnd.google.colaboratory.intrinsic+json": {
              "type": "string"
            }
          },
          "metadata": {},
          "execution_count": 65
        }
      ]
    },
    {
      "cell_type": "code",
      "source": [
        "\n",
        "llm = ChatGoogleGenerativeAI(model=\"gemini-pro-vision\")\n",
        "user_question = \"Why is the usage higher in January compared to Feburary\"\n",
        "message = HumanMessage(\n",
        "    content=[\n",
        "        {\n",
        "        \"type\": \"text\",\n",
        "        \"text\": f\"This image is the time series plot of fridge energy usage per month.\" \\\n",
        "        f\"{user_question} in the image. The time series is not weather time series. Don't ASSUME any actions about people, utilize the statistics in the context above, and give the answer in terms of the appliance the question is meant for. THE APPLIANCE IS fridge\",\n",
        "        }, # You can optionally provide text parts\n",
        "        {\"type\": \"image_url\", \"image_url\": image_url},\n",
        "    ]\n",
        ")\n",
        "llm.invoke([message])"
      ],
      "metadata": {
        "colab": {
          "base_uri": "https://localhost:8080/"
        },
        "id": "q-6CAnparFj3",
        "outputId": "81cf7d32-f753-4fc8-8141-5d865702fdb8"
      },
      "execution_count": 68,
      "outputs": [
        {
          "output_type": "execute_result",
          "data": {
            "text/plain": [
              "AIMessage(content=' The reason could be that people tend to open the fridge door more often in January compared to February. It is common for people to have holiday gatherings and parties in January, which would result in more frequent opening and closing of the fridge door, leading to higher energy usage. Additionally, the colder weather in January may cause the fridge to work harder to maintain a consistent internal temperature, resulting in increased energy consumption.', response_metadata={'prompt_feedback': {'block_reason': 0, 'safety_ratings': []}, 'finish_reason': 'STOP', 'safety_ratings': [{'category': 'HARM_CATEGORY_SEXUALLY_EXPLICIT', 'probability': 'NEGLIGIBLE', 'blocked': False}, {'category': 'HARM_CATEGORY_HATE_SPEECH', 'probability': 'NEGLIGIBLE', 'blocked': False}, {'category': 'HARM_CATEGORY_HARASSMENT', 'probability': 'NEGLIGIBLE', 'blocked': False}, {'category': 'HARM_CATEGORY_DANGEROUS_CONTENT', 'probability': 'NEGLIGIBLE', 'blocked': False}]}, id='run-22e8cc56-60a1-4983-9f52-7ab2cb7bdf8d-0')"
            ]
          },
          "metadata": {},
          "execution_count": 68
        }
      ]
    },
    {
      "cell_type": "code",
      "source": [
        "message"
      ],
      "metadata": {
        "colab": {
          "base_uri": "https://localhost:8080/"
        },
        "id": "FncUJEkKr2A5",
        "outputId": "4ef9f46b-4165-4643-fffe-343c1829df5c"
      },
      "execution_count": 47,
      "outputs": [
        {
          "output_type": "execute_result",
          "data": {
            "text/plain": [
              "HumanMessage(content=[{'type': 'text', 'text': \"This image is the time series plot of fridge energy usage per month.Why is the usage higher in January compared to Feburary in the image. The time series is not weather time series. Don't assume any actions about people, utilize the weather data in the context above, and give the answer in terms of the appliance the question is meant for. THE APPLIANCE IS fridge\"}, {'type': 'image_url', 'image_url': 'https://imgtr.ee/images/2024/05/02/41a3d1e31e7476604b0a7ddd9845853c.png'}])"
            ]
          },
          "metadata": {},
          "execution_count": 47
        }
      ]
    }
  ],
  "metadata": {
    "colab": {
      "provenance": []
    },
    "kernelspec": {
      "display_name": "Python 3",
      "name": "python3"
    },
    "language_info": {
      "name": "python"
    }
  },
  "nbformat": 4,
  "nbformat_minor": 0
}